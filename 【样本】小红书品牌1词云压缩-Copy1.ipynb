{
 "cells": [
  {
   "cell_type": "code",
   "execution_count": 1,
   "id": "3f3cac18",
   "metadata": {},
   "outputs": [
    {
     "name": "stdout",
     "output_type": "stream",
     "text": [
      "Requirement already satisfied: Pillow in /home/ec2-user/anaconda3/envs/python3/lib/python3.6/site-packages (8.2.0)\r\n"
     ]
    }
   ],
   "source": [
    "###压缩图片：https://www.holisticseo.digital/python-seo/resize-image/\n",
    "!python3 -m pip install --upgrade Pillow\n",
    "from PIL import Image\n",
    "import PIL\n",
    "import os\n",
    "import glob"
   ]
  },
  {
   "cell_type": "code",
   "execution_count": 4,
   "id": "dfbe3144",
   "metadata": {},
   "outputs": [
    {
     "name": "stdout",
     "output_type": "stream",
     "text": [
      "(1600, 1000)\n"
     ]
    }
   ],
   "source": [
    "file_name = '【样本】小红书品牌1词云-1600*1000.png'\n",
    "image = Image.open(file_name)\n",
    "print(image.size)\n"
   ]
  },
  {
   "cell_type": "markdown",
   "id": "ce92ea9b",
   "metadata": {},
   "source": [
    "## 等比例压缩 "
   ]
  },
  {
   "cell_type": "code",
   "execution_count": 9,
   "id": "2325b305",
   "metadata": {},
   "outputs": [],
   "source": [
    "fixed_height = 900\n",
    "file_name = '【样本】小红书品牌1词云-1600*1000.png'\n",
    "image = Image.open(file_name)\n",
    "height_percent = (fixed_height / float(image.size[1]))\n",
    "width_size = int((float(image.size[0]) * float(height_percent)))\n",
    "image = image.resize((width_size, fixed_height), PIL.Image.NEAREST)\n",
    "image.save('【样本】（等比例压缩）小红书品牌1词云-1600*1000.png.jpg')"
   ]
  },
  {
   "cell_type": "markdown",
   "id": "69ecd301",
   "metadata": {},
   "source": [
    "## thumbnail压缩（等比例；文件更小） "
   ]
  },
  {
   "cell_type": "code",
   "execution_count": 10,
   "id": "310333a2",
   "metadata": {},
   "outputs": [],
   "source": [
    "image.thumbnail(size=(700,700))  #thumbnail会remain此image原来的大小\n",
    "image.save('【样本】（thumbnail压缩）小红书品牌1词云-1600*1000.png', optimize=True, quality=85)"
   ]
  },
  {
   "cell_type": "code",
   "execution_count": null,
   "id": "a5f605bf",
   "metadata": {},
   "outputs": [],
   "source": []
  }
 ],
 "metadata": {
  "kernelspec": {
   "display_name": "conda_python3",
   "language": "python",
   "name": "conda_python3"
  },
  "language_info": {
   "codemirror_mode": {
    "name": "ipython",
    "version": 3
   },
   "file_extension": ".py",
   "mimetype": "text/x-python",
   "name": "python",
   "nbconvert_exporter": "python",
   "pygments_lexer": "ipython3",
   "version": "3.6.13"
  }
 },
 "nbformat": 4,
 "nbformat_minor": 5
}
