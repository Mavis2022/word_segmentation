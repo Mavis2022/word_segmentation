{
 "cells": [
  {
   "cell_type": "code",
   "execution_count": 1,
   "id": "3d19a2ef",
   "metadata": {},
   "outputs": [],
   "source": [
    "#!python -m pip install -U pytorch"
   ]
  },
  {
   "cell_type": "code",
   "execution_count": 105,
   "id": "5c4bbbce",
   "metadata": {},
   "outputs": [],
   "source": [
    "#!python -m pip install -U transformers\n",
    "#from sagemaker.pytorch import PyTorch\n",
    "from sagemaker.pytorch import PyTorch\n",
    "from transformers import AutoModelForSequenceClassification,AutoTokenizer,pipeline\n",
    "\n",
    "model_dianp = AutoModelForSequenceClassification.from_pretrained('uer/roberta-base-finetuned-dianping-chinese')\n",
    "tokenizer_dianp = AutoTokenizer.from_pretrained('uer/roberta-base-finetuned-dianping-chinese')\n"
   ]
  },
  {
   "cell_type": "code",
   "execution_count": 115,
   "id": "51c17783",
   "metadata": {},
   "outputs": [
    {
     "data": {
      "text/plain": [
       "1"
      ]
     },
     "execution_count": 115,
     "metadata": {},
     "output_type": "execute_result"
    }
   ],
   "source": [
    "import torch\n",
    "torch.cuda.device_count()"
   ]
  },
  {
   "cell_type": "code",
   "execution_count": 106,
   "id": "0672fba4",
   "metadata": {},
   "outputs": [],
   "source": [
    "model_jd = AutoModelForSequenceClassification.from_pretrained('uer/roberta-base-finetuned-jd-full-chinese')\n",
    "tokenizer_jd = AutoTokenizer.from_pretrained('uer/roberta-base-finetuned-jd-full-chinese')\n"
   ]
  },
  {
   "cell_type": "code",
   "execution_count": 107,
   "id": "5c107fe7",
   "metadata": {},
   "outputs": [],
   "source": [
    "text_classification = pipeline('sentiment-analysis', model=model_dianp, tokenizer=tokenizer_dianp)\n",
    "\n"
   ]
  },
  {
   "cell_type": "code",
   "execution_count": 108,
   "id": "237cfa4a",
   "metadata": {},
   "outputs": [],
   "source": [
    "import pandas as pd\n",
    "dfxq = pd.read_excel('sample_posts_20220324.xlsx', '600196_from_xueqiu', engine='openpyxl', )\n"
   ]
  },
  {
   "cell_type": "code",
   "execution_count": 109,
   "id": "5d49f415",
   "metadata": {},
   "outputs": [],
   "source": [
    "dfgb = pd.read_excel('sample_posts_20220324.xlsx', '601607_from_guba', engine = 'openpyxl')\n"
   ]
  },
  {
   "cell_type": "code",
   "execution_count": 110,
   "id": "21339333",
   "metadata": {},
   "outputs": [
    {
     "data": {
      "text/html": [
       "<div>\n",
       "<style scoped>\n",
       "    .dataframe tbody tr th:only-of-type {\n",
       "        vertical-align: middle;\n",
       "    }\n",
       "\n",
       "    .dataframe tbody tr th {\n",
       "        vertical-align: top;\n",
       "    }\n",
       "\n",
       "    .dataframe thead th {\n",
       "        text-align: right;\n",
       "    }\n",
       "</style>\n",
       "<table border=\"1\" class=\"dataframe\">\n",
       "  <thead>\n",
       "    <tr style=\"text-align: right;\">\n",
       "      <th></th>\n",
       "      <th>ticker</th>\n",
       "      <th>ticker_name</th>\n",
       "      <th>url</th>\n",
       "      <th>post_id</th>\n",
       "      <th>post_title</th>\n",
       "      <th>post_abstract</th>\n",
       "      <th>post_content</th>\n",
       "    </tr>\n",
       "  </thead>\n",
       "  <tbody>\n",
       "    <tr>\n",
       "      <th>0</th>\n",
       "      <td>601607</td>\n",
       "      <td>上海医药</td>\n",
       "      <td>https://guba.eastmoney.com/news,601607,9261090...</td>\n",
       "      <td>926109040</td>\n",
       "      <td>上药垃圾，都不要买</td>\n",
       "      <td>上药垃圾，都不要买</td>\n",
       "      <td>上药垃圾，都不要买</td>\n",
       "    </tr>\n",
       "  </tbody>\n",
       "</table>\n",
       "</div>"
      ],
      "text/plain": [
       "   ticker ticker_name                                                url  \\\n",
       "0  601607        上海医药  https://guba.eastmoney.com/news,601607,9261090...   \n",
       "\n",
       "     post_id post_title post_abstract post_content  \n",
       "0  926109040  上药垃圾，都不要买     上药垃圾，都不要买    上药垃圾，都不要买  "
      ]
     },
     "execution_count": 110,
     "metadata": {},
     "output_type": "execute_result"
    }
   ],
   "source": [
    "dfgb.head(1)"
   ]
  },
  {
   "cell_type": "code",
   "execution_count": 111,
   "id": "072697ff",
   "metadata": {},
   "outputs": [],
   "source": [
    "dfgb = dfgb[dfgb['post_content'].notna()]\n",
    "\n",
    "###文本清洗（清洗后的column名字为clean_cmt）\n",
    "import re\n",
    "def process_text(text):\n",
    "    text = re.sub(r\"[0-9]+\", '', text) \n",
    "    text = re.sub(r'\\s+',' ',text)\n",
    "    text = text.lower()\n",
    "    text = re.sub(r'\\d',' ',text)\n",
    "    text = re.sub(r'\\s+',' ',text)\n",
    "    text = ''.join(e for e in text if e.isalnum())\n",
    "    return text\n",
    "\n",
    "content = dfgb['post_content'].dropna() #把空的content去掉\n",
    "processed_content = []\n",
    "for i in range(len(content)):\n",
    "    processed_content.append([process_text(content.iloc[i])])"
   ]
  },
  {
   "cell_type": "code",
   "execution_count": 112,
   "id": "22a00a55",
   "metadata": {},
   "outputs": [],
   "source": [
    "import numpy as np\n",
    "dfgb[\"clean_cmt\"] = np.array(processed_content)"
   ]
  },
  {
   "cell_type": "code",
   "execution_count": 113,
   "id": "6aac8e67",
   "metadata": {},
   "outputs": [
    {
     "name": "stdout",
     "output_type": "stream",
     "text": [
      "0\n",
      "1\n",
      "2\n",
      "3\n",
      "4\n",
      "5\n",
      "6\n",
      "7\n",
      "8\n",
      "9\n",
      "10\n",
      "11\n",
      "12\n",
      "13\n",
      "14\n",
      "15\n",
      "16\n",
      "17\n",
      "18\n",
      "19\n",
      "20\n",
      "21\n",
      "22\n",
      "23\n",
      "24\n",
      "25\n",
      "26\n",
      "27\n",
      "28\n",
      "29\n",
      "30\n",
      "31\n",
      "32\n",
      "33\n",
      "34\n",
      "35\n",
      "36\n",
      "37\n",
      "38\n",
      "39\n",
      "40\n",
      "41\n",
      "42\n",
      "43\n",
      "44\n",
      "45\n",
      "46\n",
      "47\n",
      "48\n",
      "49\n",
      "50\n",
      "51\n",
      "52\n",
      "53\n",
      "54\n",
      "55\n",
      "56\n",
      "57\n",
      "58\n",
      "59\n",
      "60\n",
      "61\n",
      "62\n",
      "63\n",
      "64\n",
      "65\n",
      "66\n",
      "67\n",
      "68\n",
      "69\n",
      "70\n",
      "71\n",
      "72\n",
      "73\n",
      "74\n",
      "75\n",
      "76\n",
      "77\n",
      "78\n",
      "79\n",
      "80\n",
      "81\n",
      "82\n",
      "83\n",
      "84\n",
      "85\n",
      "86\n",
      "87\n",
      "88\n",
      "89\n",
      "90\n",
      "91\n",
      "92\n",
      "93\n",
      "94\n",
      "95\n",
      "96\n",
      "97\n",
      "98\n",
      "99\n",
      "100\n",
      "101\n",
      "102\n",
      "103\n",
      "104\n",
      "105\n",
      "106\n",
      "107\n",
      "108\n",
      "109\n",
      "110\n",
      "111\n",
      "112\n",
      "113\n",
      "114\n",
      "115\n",
      "116\n",
      "117\n",
      "118\n",
      "119\n",
      "120\n",
      "121\n",
      "122\n",
      "123\n",
      "124\n",
      "125\n",
      "126\n",
      "127\n",
      "128\n",
      "129\n",
      "130\n",
      "131\n",
      "132\n",
      "133\n",
      "134\n",
      "135\n",
      "136\n",
      "137\n",
      "138\n",
      "139\n",
      "140\n",
      "141\n",
      "142\n",
      "143\n",
      "144\n",
      "145\n",
      "146\n",
      "147\n",
      "148\n",
      "149\n",
      "150\n",
      "151\n",
      "152\n",
      "153\n",
      "154\n",
      "155\n",
      "156\n",
      "157\n",
      "158\n",
      "159\n",
      "160\n",
      "161\n",
      "162\n",
      "163\n",
      "164\n",
      "165\n",
      "166\n",
      "167\n",
      "168\n",
      "169\n",
      "170\n",
      "171\n",
      "172\n",
      "173\n",
      "174\n",
      "175\n",
      "176\n",
      "177\n",
      "178\n",
      "179\n",
      "180\n",
      "181\n",
      "182\n",
      "183\n",
      "184\n",
      "185\n",
      "186\n",
      "187\n",
      "188\n",
      "189\n",
      "190\n",
      "191\n",
      "192\n",
      "193\n",
      "194\n",
      "195\n",
      "196\n",
      "197\n",
      "198\n",
      "199\n"
     ]
    }
   ],
   "source": [
    "ratings = []\n",
    "i = 0\n",
    "for note in processed_content:\n",
    "    note = str(note)\n",
    "    print(i)\n",
    "    i = i+1 \n",
    "    if len(note.encode('utf-8').decode('utf-8')) > 511:  #对于超过512个字符的评论，只得进行截取前512个字符\n",
    "        note = note.encode('utf-8').decode('utf-8')[:510]\n",
    "        try:\n",
    "            ratings.append(text_classification(note))\n",
    "        except Exception as e:\n",
    "            print(e, note)\n",
    "            pass\n",
    "    else:\n",
    "        ratings.append(text_classification(note))\n",
    "    "
   ]
  },
  {
   "cell_type": "code",
   "execution_count": 102,
   "id": "c72f6dc8",
   "metadata": {},
   "outputs": [],
   "source": [
    "dfgb[\"ratings\"] = ratings"
   ]
  },
  {
   "cell_type": "code",
   "execution_count": 103,
   "id": "2a55c880",
   "metadata": {},
   "outputs": [
    {
     "data": {
      "text/html": [
       "<div>\n",
       "<style scoped>\n",
       "    .dataframe tbody tr th:only-of-type {\n",
       "        vertical-align: middle;\n",
       "    }\n",
       "\n",
       "    .dataframe tbody tr th {\n",
       "        vertical-align: top;\n",
       "    }\n",
       "\n",
       "    .dataframe thead th {\n",
       "        text-align: right;\n",
       "    }\n",
       "</style>\n",
       "<table border=\"1\" class=\"dataframe\">\n",
       "  <thead>\n",
       "    <tr style=\"text-align: right;\">\n",
       "      <th></th>\n",
       "      <th>ticker</th>\n",
       "      <th>ticker_name</th>\n",
       "      <th>url</th>\n",
       "      <th>post_id</th>\n",
       "      <th>post_title</th>\n",
       "      <th>post_abstract</th>\n",
       "      <th>post_content</th>\n",
       "      <th>clean_cmt</th>\n",
       "      <th>ratings</th>\n",
       "    </tr>\n",
       "  </thead>\n",
       "  <tbody>\n",
       "    <tr>\n",
       "      <th>0</th>\n",
       "      <td>601607</td>\n",
       "      <td>上海医药</td>\n",
       "      <td>https://guba.eastmoney.com/news,601607,9261090...</td>\n",
       "      <td>926109040</td>\n",
       "      <td>上药垃圾，都不要买</td>\n",
       "      <td>上药垃圾，都不要买</td>\n",
       "      <td>上药垃圾，都不要买</td>\n",
       "      <td>上药垃圾都不要买</td>\n",
       "      <td>[{'label': 'negative (stars 1, 2 and 3)', 'sco...</td>\n",
       "    </tr>\n",
       "    <tr>\n",
       "      <th>1</th>\n",
       "      <td>601607</td>\n",
       "      <td>上海医药</td>\n",
       "      <td>https://guba.eastmoney.com/news,601607,9408257...</td>\n",
       "      <td>940825794</td>\n",
       "      <td>谁在发上海医药利好！明天跌停</td>\n",
       "      <td>谁在发上海医药利好！明天跌停</td>\n",
       "      <td>谁在发上海医药利好！明天跌停</td>\n",
       "      <td>谁在发上海医药利好明天跌停</td>\n",
       "      <td>[{'label': 'negative (stars 1, 2 and 3)', 'sco...</td>\n",
       "    </tr>\n",
       "    <tr>\n",
       "      <th>2</th>\n",
       "      <td>601607</td>\n",
       "      <td>上海医药</td>\n",
       "      <td>https://guba.eastmoney.com/news,601607,9427955...</td>\n",
       "      <td>942795507</td>\n",
       "      <td>完了完了</td>\n",
       "      <td>垃圾上涨时就是大盘见顶时。几乎所有板块都在狂欢，这里却在耗尽个股牛市的最后时间。</td>\n",
       "      <td>垃圾上涨时就是大盘见顶时。几乎所有板块都在狂欢，这里却在耗尽个股牛市的最后时间。</td>\n",
       "      <td>垃圾上涨时就是大盘见顶时几乎所有板块都在狂欢这里却在耗尽个股牛市的最后时间</td>\n",
       "      <td>[{'label': 'negative (stars 1, 2 and 3)', 'sco...</td>\n",
       "    </tr>\n",
       "    <tr>\n",
       "      <th>3</th>\n",
       "      <td>601607</td>\n",
       "      <td>上海医药</td>\n",
       "      <td>https://guba.eastmoney.com/news,601607,9441497...</td>\n",
       "      <td>944149709</td>\n",
       "      <td>情况不妙呀走为上策</td>\n",
       "      <td>情况不妙呀走为上策</td>\n",
       "      <td>情况不妙呀走为上策</td>\n",
       "      <td>情况不妙呀走为上策</td>\n",
       "      <td>[{'label': 'negative (stars 1, 2 and 3)', 'sco...</td>\n",
       "    </tr>\n",
       "    <tr>\n",
       "      <th>4</th>\n",
       "      <td>601607</td>\n",
       "      <td>上海医药</td>\n",
       "      <td>https://guba.eastmoney.com/news,601607,9490408...</td>\n",
       "      <td>949040885</td>\n",
       "      <td>行到水穷处，坐看云起时！</td>\n",
       "      <td>行到水穷处，坐看云起时！</td>\n",
       "      <td>行到水穷处，坐看云起时！</td>\n",
       "      <td>行到水穷处坐看云起时</td>\n",
       "      <td>[{'label': 'negative (stars 1, 2 and 3)', 'sco...</td>\n",
       "    </tr>\n",
       "  </tbody>\n",
       "</table>\n",
       "</div>"
      ],
      "text/plain": [
       "   ticker ticker_name                                                url  \\\n",
       "0  601607        上海医药  https://guba.eastmoney.com/news,601607,9261090...   \n",
       "1  601607        上海医药  https://guba.eastmoney.com/news,601607,9408257...   \n",
       "2  601607        上海医药  https://guba.eastmoney.com/news,601607,9427955...   \n",
       "3  601607        上海医药  https://guba.eastmoney.com/news,601607,9441497...   \n",
       "4  601607        上海医药  https://guba.eastmoney.com/news,601607,9490408...   \n",
       "\n",
       "     post_id      post_title                             post_abstract  \\\n",
       "0  926109040       上药垃圾，都不要买                                 上药垃圾，都不要买   \n",
       "1  940825794  谁在发上海医药利好！明天跌停                            谁在发上海医药利好！明天跌停   \n",
       "2  942795507            完了完了  垃圾上涨时就是大盘见顶时。几乎所有板块都在狂欢，这里却在耗尽个股牛市的最后时间。   \n",
       "3  944149709       情况不妙呀走为上策                                 情况不妙呀走为上策   \n",
       "4  949040885    行到水穷处，坐看云起时！                              行到水穷处，坐看云起时！   \n",
       "\n",
       "                               post_content  \\\n",
       "0                                 上药垃圾，都不要买   \n",
       "1                            谁在发上海医药利好！明天跌停   \n",
       "2  垃圾上涨时就是大盘见顶时。几乎所有板块都在狂欢，这里却在耗尽个股牛市的最后时间。   \n",
       "3                                 情况不妙呀走为上策   \n",
       "4                              行到水穷处，坐看云起时！   \n",
       "\n",
       "                               clean_cmt  \\\n",
       "0                               上药垃圾都不要买   \n",
       "1                          谁在发上海医药利好明天跌停   \n",
       "2  垃圾上涨时就是大盘见顶时几乎所有板块都在狂欢这里却在耗尽个股牛市的最后时间   \n",
       "3                              情况不妙呀走为上策   \n",
       "4                             行到水穷处坐看云起时   \n",
       "\n",
       "                                             ratings  \n",
       "0  [{'label': 'negative (stars 1, 2 and 3)', 'sco...  \n",
       "1  [{'label': 'negative (stars 1, 2 and 3)', 'sco...  \n",
       "2  [{'label': 'negative (stars 1, 2 and 3)', 'sco...  \n",
       "3  [{'label': 'negative (stars 1, 2 and 3)', 'sco...  \n",
       "4  [{'label': 'negative (stars 1, 2 and 3)', 'sco...  "
      ]
     },
     "execution_count": 103,
     "metadata": {},
     "output_type": "execute_result"
    }
   ],
   "source": [
    "dfgb.head()"
   ]
  },
  {
   "cell_type": "code",
   "execution_count": 104,
   "id": "65174459",
   "metadata": {},
   "outputs": [],
   "source": [
    "dfgb.to_excel('gb_roberta_dianp_ratings.xlsx')"
   ]
  },
  {
   "cell_type": "code",
   "execution_count": 89,
   "id": "9a77c588",
   "metadata": {},
   "outputs": [
    {
     "data": {
      "text/plain": [
       "[{'label': 'negative (stars 1, 2 and 3)', 'score': 0.7818922996520996}]"
      ]
     },
     "execution_count": 89,
     "metadata": {},
     "output_type": "execute_result"
    }
   ],
   "source": [
    "text_classification(\"股票交易终极的本质就是资本的趋利避害股票交易终极的本质就是资本的趋利避害。$上海机场(SH600009)$ $长春高新(SZ000661)$ $复星医药(SH600196)$\")\n"
   ]
  },
  {
   "cell_type": "code",
   "execution_count": 90,
   "id": "83fda9fe",
   "metadata": {},
   "outputs": [
    {
     "data": {
      "text/plain": [
       "[{'label': 'negative (stars 1, 2 and 3)', 'score': 0.645952582359314}]"
      ]
     },
     "execution_count": 90,
     "metadata": {},
     "output_type": "execute_result"
    }
   ],
   "source": [
    "text_classification(\"股票交易终极的本质就是资本的趋利避害\")\n"
   ]
  },
  {
   "cell_type": "code",
   "execution_count": 91,
   "id": "559fe12e",
   "metadata": {},
   "outputs": [
    {
     "data": {
      "text/plain": [
       "[{'label': 'positive (stars 4 and 5)', 'score': 0.5665899515151978}]"
      ]
     },
     "execution_count": 91,
     "metadata": {},
     "output_type": "execute_result"
    }
   ],
   "source": [
    "text_classification(\"毫不夸张地说，当下的经济情况，距离经济滞胀已经不远了。如果不是相对宽松的货币政策，仍然在推动着整体经济的前进，经济增长的速度可能会更慢。而广义货币M2的增速也比GDP的增长来的更快，从这个角度来看\")\n"
   ]
  },
  {
   "cell_type": "code",
   "execution_count": 92,
   "id": "83d4c27e",
   "metadata": {},
   "outputs": [
    {
     "data": {
      "text/plain": [
       "[{'label': 'negative (stars 1, 2 and 3)', 'score': 0.7222153544425964}]"
      ]
     },
     "execution_count": 92,
     "metadata": {},
     "output_type": "execute_result"
    }
   ],
   "source": [
    "text_classification(\"毫不夸张地说，当下的经济情况，距离经济滞胀已经不远了。 如果不是相对宽松的货币政策，仍然在推动着整体经济的前进，经济增长的速度可能会更慢。 而广义货币M2的增速也比GDP的增长来的更快，从这个角度来看，钱的购买力能不能保值，还有待商榷。 其实，这是一个正常的现象，在全球范围内都面临...\")\n",
    "\n",
    "\n",
    "\n",
    "\n"
   ]
  },
  {
   "cell_type": "code",
   "execution_count": null,
   "id": "07cfb3a1",
   "metadata": {},
   "outputs": [],
   "source": []
  }
 ],
 "metadata": {
  "kernelspec": {
   "display_name": "conda_amazonei_pytorch_latest_p36",
   "language": "python",
   "name": "conda_amazonei_pytorch_latest_p36"
  },
  "language_info": {
   "codemirror_mode": {
    "name": "ipython",
    "version": 3
   },
   "file_extension": ".py",
   "mimetype": "text/x-python",
   "name": "python",
   "nbconvert_exporter": "python",
   "pygments_lexer": "ipython3",
   "version": "3.6.13"
  }
 },
 "nbformat": 4,
 "nbformat_minor": 5
}
