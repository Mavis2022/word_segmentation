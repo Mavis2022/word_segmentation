{
 "cells": [
  {
   "cell_type": "code",
   "execution_count": 1,
   "id": "da309811",
   "metadata": {},
   "outputs": [],
   "source": [
    "import pandas as pd"
   ]
  },
  {
   "cell_type": "code",
   "execution_count": 50,
   "id": "173c30d1",
   "metadata": {},
   "outputs": [],
   "source": [
    "dfgb = pd.read_excel('gb_roberta_jd_ratings.xlsx', engine='openpyxl')"
   ]
  },
  {
   "cell_type": "code",
   "execution_count": 51,
   "id": "71faef56",
   "metadata": {},
   "outputs": [],
   "source": [
    "dfgb = dfgb.head(110)"
   ]
  },
  {
   "cell_type": "code",
   "execution_count": 52,
   "id": "2edceb4a",
   "metadata": {},
   "outputs": [],
   "source": [
    "def convert(list):\n",
    "      \n",
    "    # Converting integer list to string list\n",
    "    s = [str(i) for i in list]\n",
    "      \n",
    "    # Join list items using join()\n",
    "    res = int(\"\".join(s))\n",
    "      \n",
    "    return(res)"
   ]
  },
  {
   "cell_type": "code",
   "execution_count": 53,
   "id": "f8397294",
   "metadata": {},
   "outputs": [],
   "source": [
    "import re\n",
    "clean_dg = []\n",
    "for i in range(len(dfgb)):\n",
    "    s = list(int(s) for s in re.findall(r'-?\\d+\\.?\\d*', dfgb['ratings'][i][12:19]))\n",
    "    s = convert(s)\n",
    "    clean_dg.append(s)"
   ]
  },
  {
   "cell_type": "code",
   "execution_count": 54,
   "id": "72be18c7",
   "metadata": {},
   "outputs": [],
   "source": [
    "dfgb['model_star'] = clean_dg"
   ]
  },
  {
   "cell_type": "code",
   "execution_count": 55,
   "id": "8495312d",
   "metadata": {},
   "outputs": [],
   "source": [
    "jd = []\n",
    "for i in range(len(dfgb)):\n",
    "    if dfgb['model_star'][i] >= 3:\n",
    "        a = 1\n",
    "    else:\n",
    "        a = 0\n",
    "    jd.append(a)\n",
    "dfgb['jd'] = jd"
   ]
  },
  {
   "cell_type": "code",
   "execution_count": 56,
   "id": "e3b20bb9",
   "metadata": {},
   "outputs": [
    {
     "data": {
      "text/plain": [
       "110"
      ]
     },
     "execution_count": 56,
     "metadata": {},
     "output_type": "execute_result"
    }
   ],
   "source": [
    "len(jd)"
   ]
  },
  {
   "cell_type": "code",
   "execution_count": 57,
   "id": "ba7b9848",
   "metadata": {},
   "outputs": [],
   "source": [
    "dfresult_gb = pd.read_excel('sample_posts_20220324_1.xlsx', '601607_from_guba', engine='openpyxl')\n"
   ]
  },
  {
   "cell_type": "code",
   "execution_count": 58,
   "id": "f8be45d2",
   "metadata": {},
   "outputs": [
    {
     "data": {
      "text/plain": [
       "200"
      ]
     },
     "execution_count": 58,
     "metadata": {},
     "output_type": "execute_result"
    }
   ],
   "source": [
    "len(dfresult_gb)"
   ]
  },
  {
   "cell_type": "code",
   "execution_count": 59,
   "id": "6252971a",
   "metadata": {},
   "outputs": [],
   "source": [
    "dfresult_gb = dfresult_gb.head(110)"
   ]
  },
  {
   "cell_type": "code",
   "execution_count": 63,
   "id": "c392a33f",
   "metadata": {},
   "outputs": [],
   "source": [
    "human = []\n",
    "for i in range(len(dfresult_gb)):\n",
    "    if dfresult_gb['score'][i] >= 3:\n",
    "        a = 1\n",
    "    else:\n",
    "        a = 0\n",
    "    human.append(a)\n",
    "dfresult_gb['human'] = human\n"
   ]
  },
  {
   "cell_type": "code",
   "execution_count": 64,
   "id": "772fc668",
   "metadata": {},
   "outputs": [],
   "source": [
    "dfresult_gb['jd'] = jd"
   ]
  },
  {
   "cell_type": "code",
   "execution_count": 65,
   "id": "5ce93e11",
   "metadata": {},
   "outputs": [],
   "source": [
    "from sklearn.metrics import accuracy_score,precision_score,recall_score,f1_score\n",
    "test = list(dfresult_gb['human'])\n",
    "predict = list(dfresult_gb['jd'])\n",
    "accuracy = accuracy_score(test, predict)\n",
    "precision = precision_score(test, predict)\n",
    "recall = recall_score(test, predict)\n",
    "f1 = f1_score(test, predict)"
   ]
  },
  {
   "cell_type": "code",
   "execution_count": 66,
   "id": "b7baab8f",
   "metadata": {},
   "outputs": [
    {
     "name": "stdout",
     "output_type": "stream",
     "text": [
      "0.7181818181818181\n",
      "0.7761194029850746\n",
      "0.7647058823529411\n",
      "0.7703703703703704\n"
     ]
    }
   ],
   "source": [
    "print(accuracy)\n",
    "print(precision)\n",
    "print(recall)\n",
    "print(f1)"
   ]
  },
  {
   "cell_type": "code",
   "execution_count": 67,
   "id": "836aa1ce",
   "metadata": {},
   "outputs": [
    {
     "data": {
      "text/plain": [
       "array([[27, 15],\n",
       "       [16, 52]])"
      ]
     },
     "execution_count": 67,
     "metadata": {},
     "output_type": "execute_result"
    }
   ],
   "source": [
    "from sklearn.metrics import confusion_matrix\n",
    "confusion_matrix(test, predict)"
   ]
  },
  {
   "cell_type": "code",
   "execution_count": 68,
   "id": "fcbb6893",
   "metadata": {},
   "outputs": [
    {
     "name": "stdout",
     "output_type": "stream",
     "text": [
      "Outcome values : \n",
      " 52 16 15 27\n"
     ]
    }
   ],
   "source": [
    "tp, fn, fp, tn = confusion_matrix(test,predict,labels=[1,0]).reshape(-1)\n",
    "print('Outcome values : \\n', tp, fn, fp, tn)"
   ]
  },
  {
   "cell_type": "code",
   "execution_count": null,
   "id": "cb75fe1f",
   "metadata": {},
   "outputs": [],
   "source": [
    "TP, FP, FN, TN"
   ]
  }
 ],
 "metadata": {
  "kernelspec": {
   "display_name": "conda_python3",
   "language": "python",
   "name": "conda_python3"
  },
  "language_info": {
   "codemirror_mode": {
    "name": "ipython",
    "version": 3
   },
   "file_extension": ".py",
   "mimetype": "text/x-python",
   "name": "python",
   "nbconvert_exporter": "python",
   "pygments_lexer": "ipython3",
   "version": "3.6.13"
  }
 },
 "nbformat": 4,
 "nbformat_minor": 5
}
