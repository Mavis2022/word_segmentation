{
 "cells": [
  {
   "cell_type": "code",
   "execution_count": 3,
   "id": "66f141ef",
   "metadata": {},
   "outputs": [],
   "source": [
    "import pandas as pd"
   ]
  },
  {
   "cell_type": "code",
   "execution_count": 4,
   "id": "4a32f1ed",
   "metadata": {},
   "outputs": [],
   "source": [
    "dfgb = pd.read_excel('xq_roberta_jd_ratings.xlsx', engine='openpyxl')"
   ]
  },
  {
   "cell_type": "code",
   "execution_count": 5,
   "id": "b07e22e3",
   "metadata": {},
   "outputs": [],
   "source": [
    "dfgb = dfgb.head(110)"
   ]
  },
  {
   "cell_type": "code",
   "execution_count": 6,
   "id": "3fc85d91",
   "metadata": {},
   "outputs": [],
   "source": [
    "def convert(list):\n",
    "      \n",
    "    # Converting integer list to string list\n",
    "    s = [str(i) for i in list]\n",
    "      \n",
    "    # Join list items using join()\n",
    "    res = int(\"\".join(s))\n",
    "      \n",
    "    return(res)"
   ]
  },
  {
   "cell_type": "code",
   "execution_count": 7,
   "id": "917419f4",
   "metadata": {},
   "outputs": [],
   "source": [
    "import re\n",
    "clean_dg = []\n",
    "for i in range(len(dfgb)):\n",
    "    s = list(int(s) for s in re.findall(r'-?\\d+\\.?\\d*', dfgb['ratings'][i][12:19]))\n",
    "    s = convert(s)\n",
    "    clean_dg.append(s)"
   ]
  },
  {
   "cell_type": "code",
   "execution_count": 8,
   "id": "39f4a496",
   "metadata": {},
   "outputs": [],
   "source": [
    "dfgb['model_star'] = clean_dg"
   ]
  },
  {
   "cell_type": "code",
   "execution_count": 9,
   "id": "707ea4cb",
   "metadata": {},
   "outputs": [],
   "source": [
    "jd = []\n",
    "for i in range(len(dfgb)):\n",
    "    if dfgb['model_star'][i] >= 3:\n",
    "        a = 1\n",
    "    else:\n",
    "        a = 0\n",
    "    jd.append(a)\n",
    "dfgb['jd'] = jd"
   ]
  },
  {
   "cell_type": "code",
   "execution_count": 10,
   "id": "9092c7c1",
   "metadata": {},
   "outputs": [
    {
     "data": {
      "text/plain": [
       "110"
      ]
     },
     "execution_count": 10,
     "metadata": {},
     "output_type": "execute_result"
    }
   ],
   "source": [
    "len(jd)"
   ]
  },
  {
   "cell_type": "code",
   "execution_count": 12,
   "id": "247beda5",
   "metadata": {},
   "outputs": [],
   "source": [
    "dfresult_gb = pd.read_excel('sample_posts_20220324_1.xlsx', '600196_from_xueqiu', engine='openpyxl')\n"
   ]
  },
  {
   "cell_type": "code",
   "execution_count": 13,
   "id": "90c5f9b2",
   "metadata": {},
   "outputs": [
    {
     "data": {
      "text/plain": [
       "200"
      ]
     },
     "execution_count": 13,
     "metadata": {},
     "output_type": "execute_result"
    }
   ],
   "source": [
    "len(dfresult_gb)"
   ]
  },
  {
   "cell_type": "code",
   "execution_count": 14,
   "id": "e7d3f9d5",
   "metadata": {},
   "outputs": [],
   "source": [
    "dfresult_gb = dfresult_gb.head(110)"
   ]
  },
  {
   "cell_type": "code",
   "execution_count": 15,
   "id": "06a4737b",
   "metadata": {},
   "outputs": [],
   "source": [
    "human = []\n",
    "for i in range(len(dfresult_gb)):\n",
    "    if dfresult_gb['score'][i] >= 3:\n",
    "        a = 1\n",
    "    else:\n",
    "        a = 0\n",
    "    human.append(a)\n",
    "dfresult_gb['human'] = human\n"
   ]
  },
  {
   "cell_type": "code",
   "execution_count": 16,
   "id": "548e92a9",
   "metadata": {},
   "outputs": [],
   "source": [
    "dfresult_gb['jd'] = jd"
   ]
  },
  {
   "cell_type": "code",
   "execution_count": 17,
   "id": "4f96fe66",
   "metadata": {},
   "outputs": [],
   "source": [
    "from sklearn.metrics import accuracy_score,precision_score,recall_score,f1_score\n",
    "test = list(dfresult_gb['human'])\n",
    "predict = list(dfresult_gb['jd'])\n",
    "accuracy = accuracy_score(test, predict)\n",
    "precision = precision_score(test, predict)\n",
    "recall = recall_score(test, predict)\n",
    "f1 = f1_score(test, predict)"
   ]
  },
  {
   "cell_type": "code",
   "execution_count": 18,
   "id": "25cbc18a",
   "metadata": {},
   "outputs": [
    {
     "name": "stdout",
     "output_type": "stream",
     "text": [
      "0.7636363636363637\n",
      "0.8297872340425532\n",
      "0.8863636363636364\n",
      "0.8571428571428571\n"
     ]
    }
   ],
   "source": [
    "print(accuracy)\n",
    "print(precision)\n",
    "print(recall)\n",
    "print(f1)"
   ]
  },
  {
   "cell_type": "code",
   "execution_count": 24,
   "id": "af8e599a",
   "metadata": {},
   "outputs": [
    {
     "name": "stdout",
     "output_type": "stream",
     "text": [
      "Outcome values : \n",
      " 78 10 16 6\n"
     ]
    }
   ],
   "source": [
    "from sklearn.metrics import confusion_matrix\n",
    "tp, fn, fp, tn = confusion_matrix(test,predict,labels=[1,0]).reshape(-1)\n",
    "print('Outcome values : \\n', tp, fn, fp, tn)"
   ]
  },
  {
   "cell_type": "code",
   "execution_count": 23,
   "id": "ca517677",
   "metadata": {},
   "outputs": [],
   "source": [
    "#TP, FP, FN, TN"
   ]
  },
  {
   "cell_type": "code",
   "execution_count": null,
   "id": "2cc905bd",
   "metadata": {},
   "outputs": [],
   "source": []
  }
 ],
 "metadata": {
  "kernelspec": {
   "display_name": "conda_python3",
   "language": "python",
   "name": "conda_python3"
  },
  "language_info": {
   "codemirror_mode": {
    "name": "ipython",
    "version": 3
   },
   "file_extension": ".py",
   "mimetype": "text/x-python",
   "name": "python",
   "nbconvert_exporter": "python",
   "pygments_lexer": "ipython3",
   "version": "3.6.13"
  }
 },
 "nbformat": 4,
 "nbformat_minor": 5
}
