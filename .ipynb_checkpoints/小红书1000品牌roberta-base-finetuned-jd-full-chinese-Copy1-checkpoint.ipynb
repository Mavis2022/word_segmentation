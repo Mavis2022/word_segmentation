{
 "cells": [
  {
   "cell_type": "markdown",
   "id": "9f923f98",
   "metadata": {},
   "source": [
    "说明：\n",
    "roberta-base-finetuned-jd-full-chinese is trained using JD full dataset(***即 label不再是positive / negative，而是1-5星***), which consists of user reviews of different sentiment polarities.\n",
    "\n",
    "probability = probability of the sentence being the label\n",
    "（例如：如果一句话的label为star 3，则probability为这句话的label为star 3的概率）\n",
    "\n",
    "https://huggingface.co/uer/roberta-base-finetuned-jd-full-chinese"
   ]
  },
  {
   "cell_type": "code",
   "execution_count": 1,
   "id": "e89363ed",
   "metadata": {},
   "outputs": [],
   "source": [
    "#!python -m pip install -U transformers\n",
    "#from sagemaker.pytorch import PyTorch\n",
    "from transformers import AutoModelForSequenceClassification,AutoTokenizer,pipeline\n",
    "\n",
    "model = AutoModelForSequenceClassification.from_pretrained('uer/roberta-base-finetuned-jd-full-chinese')\n",
    "tokenizer = AutoTokenizer.from_pretrained('uer/roberta-base-finetuned-jd-full-chinese')\n"
   ]
  },
  {
   "cell_type": "code",
   "execution_count": 2,
   "id": "6579a450",
   "metadata": {},
   "outputs": [],
   "source": [
    "text_classification = pipeline('sentiment-analysis', model=model, tokenizer=tokenizer)"
   ]
  },
  {
   "cell_type": "code",
   "execution_count": 3,
   "id": "f9c4869a",
   "metadata": {},
   "outputs": [
    {
     "data": {
      "text/plain": [
       "[{'label': 'star 4', 'score': 0.35924673080444336}]"
      ]
     },
     "execution_count": 3,
     "metadata": {},
     "output_type": "execute_result"
    }
   ],
   "source": [
    "###官方举例：\n",
    "text_classification(\"北京上个月召开了两会\")"
   ]
  },
  {
   "cell_type": "code",
   "execution_count": 4,
   "id": "4a8a7f0c",
   "metadata": {},
   "outputs": [],
   "source": [
    "import pandas as pd\n",
    "dfred=pd.read_csv('red_top1000.csv')"
   ]
  },
  {
   "cell_type": "code",
   "execution_count": 5,
   "id": "045609aa",
   "metadata": {},
   "outputs": [
    {
     "data": {
      "text/html": [
       "<div>\n",
       "<style scoped>\n",
       "    .dataframe tbody tr th:only-of-type {\n",
       "        vertical-align: middle;\n",
       "    }\n",
       "\n",
       "    .dataframe tbody tr th {\n",
       "        vertical-align: top;\n",
       "    }\n",
       "\n",
       "    .dataframe thead th {\n",
       "        text-align: right;\n",
       "    }\n",
       "</style>\n",
       "<table border=\"1\" class=\"dataframe\">\n",
       "  <thead>\n",
       "    <tr style=\"text-align: right;\">\n",
       "      <th></th>\n",
       "      <th>brand</th>\n",
       "      <th>note_id</th>\n",
       "      <th>content</th>\n",
       "      <th>likes</th>\n",
       "      <th>rnk</th>\n",
       "    </tr>\n",
       "  </thead>\n",
       "  <tbody>\n",
       "    <tr>\n",
       "      <th>0</th>\n",
       "      <td>BEASTER</td>\n",
       "      <td>608f64710000000021036b18</td>\n",
       "      <td>OOTD丨夏季蓝色系穿搭丨破洞裤绝绝子！本人16390\\n衬衫：Beaster（s）颜色还挺...</td>\n",
       "      <td>5524</td>\n",
       "      <td>1</td>\n",
       "    </tr>\n",
       "    <tr>\n",
       "      <th>1</th>\n",
       "      <td>BEASTER</td>\n",
       "      <td>60965fd90000000001025d41</td>\n",
       "      <td>🎁520送男友礼物推荐～最近刷到很多姐妹都在为520送男朋友什么礼物发愁[吧唧R]送男朋友比...</td>\n",
       "      <td>4635</td>\n",
       "      <td>2</td>\n",
       "    </tr>\n",
       "    <tr>\n",
       "      <th>2</th>\n",
       "      <td>BEASTER</td>\n",
       "      <td>6055d8fb000000000102bff8</td>\n",
       "      <td>OOTD｜今天好韩哦🍳咸菜绿情侣T恤好高级✨好喜欢现在可以乱穿衣服的季节！！\\n这件咸菜绿的...</td>\n",
       "      <td>4417</td>\n",
       "      <td>3</td>\n",
       "    </tr>\n",
       "    <tr>\n",
       "      <th>3</th>\n",
       "      <td>BEASTER</td>\n",
       "      <td>6086867b000000002103ba0e</td>\n",
       "      <td>坐我腿上还是坐我腰上？-周末去逛了一下泡桐树街，里面开了非常多不错的咖啡小店，#PickCo...</td>\n",
       "      <td>3351</td>\n",
       "      <td>4</td>\n",
       "    </tr>\n",
       "    <tr>\n",
       "      <th>4</th>\n",
       "      <td>BEASTER</td>\n",
       "      <td>600112270000000001000d91</td>\n",
       "      <td>不看必后悔系列✨103家明星同款国潮韩潮店[害羞R][害羞R]我以前是不穿潮牌的，觉得这种小...</td>\n",
       "      <td>3277</td>\n",
       "      <td>5</td>\n",
       "    </tr>\n",
       "    <tr>\n",
       "      <th>5</th>\n",
       "      <td>BEASTER</td>\n",
       "      <td>606a6c270000000001028a39</td>\n",
       "      <td>夏日T恤合集2⃣️：必备彩色T恤，活力叠穿～☀️Ⓜ️今天是彩色T恤pa～\\n夏天的早点准备起...</td>\n",
       "      <td>2307</td>\n",
       "      <td>6</td>\n",
       "    </tr>\n",
       "    <tr>\n",
       "      <th>6</th>\n",
       "      <td>BEASTER</td>\n",
       "      <td>604355760000000001029ba0</td>\n",
       "      <td>百元爱豆同款｜刘雨昕、陈立农拍杂志都在穿！刘雨昕同款｜金属项链｜小众设计包包｜家居装饰｜平价...</td>\n",
       "      <td>1729</td>\n",
       "      <td>7</td>\n",
       "    </tr>\n",
       "    <tr>\n",
       "      <th>7</th>\n",
       "      <td>BEASTER</td>\n",
       "      <td>607ace39000000000102eae9</td>\n",
       "      <td>OOTD｜🎮一秒变身辣妹！16041👧🏻\\n姐妹们好呀～！✨\\n可爱安今天摇身一变成为辣妹啦...</td>\n",
       "      <td>1598</td>\n",
       "      <td>8</td>\n",
       "    </tr>\n",
       "    <tr>\n",
       "      <th>8</th>\n",
       "      <td>BEASTER</td>\n",
       "      <td>6077d9f60000000021037960</td>\n",
       "      <td>长得帅有什么用还不是得听女孩子的\\n短发上瘾了\\n美瞳👀是森之漾沉稳小象\\n蓝灰色的感觉\\n...</td>\n",
       "      <td>1596</td>\n",
       "      <td>9</td>\n",
       "    </tr>\n",
       "    <tr>\n",
       "      <th>9</th>\n",
       "      <td>BEASTER</td>\n",
       "      <td>607905b9000000002103b04e</td>\n",
       "      <td>185保安♾150公主出门日记151真诚分享！\\n👔：BEASTER</td>\n",
       "      <td>1306</td>\n",
       "      <td>10</td>\n",
       "    </tr>\n",
       "  </tbody>\n",
       "</table>\n",
       "</div>"
      ],
      "text/plain": [
       "     brand                   note_id  \\\n",
       "0  BEASTER  608f64710000000021036b18   \n",
       "1  BEASTER  60965fd90000000001025d41   \n",
       "2  BEASTER  6055d8fb000000000102bff8   \n",
       "3  BEASTER  6086867b000000002103ba0e   \n",
       "4  BEASTER  600112270000000001000d91   \n",
       "5  BEASTER  606a6c270000000001028a39   \n",
       "6  BEASTER  604355760000000001029ba0   \n",
       "7  BEASTER  607ace39000000000102eae9   \n",
       "8  BEASTER  6077d9f60000000021037960   \n",
       "9  BEASTER  607905b9000000002103b04e   \n",
       "\n",
       "                                             content  likes  rnk  \n",
       "0  OOTD丨夏季蓝色系穿搭丨破洞裤绝绝子！本人16390\\n衬衫：Beaster（s）颜色还挺...   5524    1  \n",
       "1  🎁520送男友礼物推荐～最近刷到很多姐妹都在为520送男朋友什么礼物发愁[吧唧R]送男朋友比...   4635    2  \n",
       "2  OOTD｜今天好韩哦🍳咸菜绿情侣T恤好高级✨好喜欢现在可以乱穿衣服的季节！！\\n这件咸菜绿的...   4417    3  \n",
       "3  坐我腿上还是坐我腰上？-周末去逛了一下泡桐树街，里面开了非常多不错的咖啡小店，#PickCo...   3351    4  \n",
       "4  不看必后悔系列✨103家明星同款国潮韩潮店[害羞R][害羞R]我以前是不穿潮牌的，觉得这种小...   3277    5  \n",
       "5  夏日T恤合集2⃣️：必备彩色T恤，活力叠穿～☀️Ⓜ️今天是彩色T恤pa～\\n夏天的早点准备起...   2307    6  \n",
       "6  百元爱豆同款｜刘雨昕、陈立农拍杂志都在穿！刘雨昕同款｜金属项链｜小众设计包包｜家居装饰｜平价...   1729    7  \n",
       "7  OOTD｜🎮一秒变身辣妹！16041👧🏻\\n姐妹们好呀～！✨\\n可爱安今天摇身一变成为辣妹啦...   1598    8  \n",
       "8  长得帅有什么用还不是得听女孩子的\\n短发上瘾了\\n美瞳👀是森之漾沉稳小象\\n蓝灰色的感觉\\n...   1596    9  \n",
       "9                 185保安♾150公主出门日记151真诚分享！\\n👔：BEASTER   1306   10  "
      ]
     },
     "execution_count": 5,
     "metadata": {},
     "output_type": "execute_result"
    }
   ],
   "source": [
    "dfred.head(10)"
   ]
  },
  {
   "cell_type": "code",
   "execution_count": 6,
   "id": "03a1fce8",
   "metadata": {},
   "outputs": [
    {
     "name": "stdout",
     "output_type": "stream",
     "text": [
      "['BEASTER' 'Dickies' 'HFP' '优时颜' '康宝 (CANBO)' '曼龙 (MALONE)'\n",
      " '糖果小姐 (Miss candy)' 'ADDICTION' 'XPEL' '斯图尔特韦茨曼 (Stuart Weitzman)'\n",
      " '桂格 (QUAKER)' '费列罗 (Ferrero Rocher)' '迪卡侬 (Decathlon)' '郁美净 (ZWILLING)'\n",
      " '锐度 (DUNK)' 'KIKO' 'NERDY' '创福康' '好欢螺 (HAOHUANLUO)' '御泥坊' '胡桃里' '至本'\n",
      " '蔓索 (Minenssey)' 'BOSE' 'Boots' 'REVOLUTION' 'Vida Glow' 'bagel'\n",
      " '三草两木 (SASELOMO)' '巴尔曼 (Balmain)' '海绵宝宝 (SpongeBob)' '统一'\n",
      " '罗杰·维维亚 Roger Vivier' '资生堂 (Shiseido)' '韩束 (KanS)' 'Kaws' '东芝 (TOSHIBA)'\n",
      " '沙宣 (Vidal Sassoon)' '爱肯拿 (Acana)' '玛速 (MASOOMAKE)' '珂润 (curel)'\n",
      " '花洛莉亚 (FLORTTE)' '长寿花 (LONGEVITY FLOWER)' 'THEV' 'VVC' 'oce' '徐福记'\n",
      " '桑姆·布郎尼 Thom Browne' '圣罗兰 (YSL)' '天猫精灵' '斐思妮 (FACELIVE)' '王饱饱' 'KIMTRUE'\n",
      " 'Lululemon' 'OMTO' '卡帕 (KAPPA)' '巴利 (Bally)' '晓姿 (AXXZIA)'\n",
      " '林家铺子 (LEASUN FOOD)' '特仑苏' '范斯 (VANS)' '贝恩施 (beiens)' '宝丽 (POLA)' '旺旺'\n",
      " '李医生 (DOCTOR LI)' '松达 (SONGDA)' '空中飞人 (Air Jordan)' '红谷 (HONGU)' '香飘飘'\n",
      " '魅族 (meizu)' 'UKISS' '兰芝 (LANEIGE)' '力士 (LUX)' '卫龙' '名创优品 (MINISO)'\n",
      " '罗莱 (luolai)' '野小兽 (YESOUL)' 'HABA' 'Self-Portrait' 'Sonny Angel'\n",
      " '卡西欧 (Casio)' '瑞克·欧文斯 Rick Owens' '百草味 (BE＆CHEERY)' '美即' '舒芙蕾 (SOFRE)'\n",
      " '阿芙 (AFU)' 'MCM' '半亩花田' '洛可可 (ROCOCO)' '立顿 (Lipton)' '美潮 (MAYCHAO)'\n",
      " '钻石小鸟' 'JBL' 'OPPO' 'PEDRO' 'Sesderma' '思琳 (Celine)' '欧米茄 (OMEGA)'\n",
      " '莱珀妮 (La Prairie)' '蔻依 (Chloe)' '蛙来哒' '骆驼 (CAMEL)' 'Ganni' '惠普 (HP)'\n",
      " '诗佩妮 (spenny)' '佳贝艾特 (Kabrita)' '南极人 (Nanjiren)' '卡乐比 (calbee)'\n",
      " '娜丽丝 (NARIS UP)' '芭贝拉 (BABREA)' '蛇毒 (SPA TREATMENT)' '贝亲 (Pigeon)'\n",
      " '野马 (Mustang)' 'Mistine' '可口可乐 (Coca-Cola)' '爱彼 (Audemars Piguet)'\n",
      " 'zengliu' '古驰 (GUCCI)' '回头客' '寻找独角兽' '步步高 (BBK)' 'Coppertone'\n",
      " '大嘴猴 (Paul Frank)' '大疆 (DJI)' '罗森 (Lawson)' '阿卡朵 (Agete)' 'FINO' 'GU'\n",
      " 'NUFACE' 'WonderLab' '亨氏 (Heinz)' '娇韵诗 (CLARINS)' '汤丽柏琦 (Tory Burch)'\n",
      " '玛丽黛佳 (Marie Dalgar)' '美若康 (miacare)' '肌美精 (Kracie)' '范思哲 (Versace)'\n",
      " 'HEDONE #FASHION SNOBS' '乐乐茶 (LELECHA)' '奥克斯' '尔木萄 (AMORTALS)' '阿道夫'\n",
      " 'TIMELESS' 'Ulike' '发趣 (Fudge)' '富士 (FUJIFILM)' '露华浓 (Revlon)'\n",
      " 'HOBONICHI' '北鼎 (Buydeem)' '润百颜' '瑞幸咖啡 (luckincoffee)' '纪梵希 (Givenchy)'\n",
      " '膳魔师 (THERMOS)' '小巨蛋' '微软 (Microsoft)' '稻香村' '膜法世家 (Mask Family)'\n",
      " '雅迪 (YADER)' 'Miss Sixty' 'dr. martens' '斐乐 (FILA)' 'SKG' 'VODANA'\n",
      " '傲丽 (COVERMARK)' '汾酒' '漫步者 (EDIFIER)' '爱他美 (Aptamil)' '直白' '贝印' '麻薯' '三谷'\n",
      " '亚瑟士 (Asics)' '卡尼尔 (Garnier)' '多芬 (Dove)' '小龙坎' '彩棠 (TIMAGE)' '彪马 (PUMA)'\n",
      " '美康粉黛' '蒙克莱 (Moncler)' 'ICICLE' 'Lady M' '果壳 (GUKOO)' '良品铺子'\n",
      " '西门子 (SIEMENS)' 'deepmoss' '太平鸟 (PEACEBIRD)' '气味图书馆 (SCENT LIBRARY)'\n",
      " '波丝可 (Bershka)' '潘婷 (Pantene)' '美皮护 (Mepiform)' 'THANN' '毛戈平 (MGPIN)'\n",
      " '百事可乐' '百达翡丽 (Patek Philippe)' '茅台 (MOUTAI)' '都市丽人'\n",
      " '鬼冢虎 (ONITSUKA TIGER)' 'POLA' 'Unichi' '卡奇色彩 (KCKC COLOR)' '李子柒'\n",
      " '溉朴 (GAP)' '芯丝翠 (NeoStrata)' 'Hegen' 'Youthlt' '博乐达' '李宁 (LI NING)'\n",
      " '林清轩 (Forest cabin)' '百果园' '稚优泉 (CHIOTURE)' \"麦当劳 (McDonald's)\"\n",
      " 'Brandy Melville' 'JW万豪 JW Marriott' '一点点' '火星人 (MARSSENGER)' 'WACOM'\n",
      " '心相印' '火烈鸟' '珑骧 (Longchamp)' '罗拉玛斯亚 (Laura Mercier)' '934' 'FENDI'\n",
      " '华为 (HUAWEI)' '欧珑 (ATELIER COLOGNE)' '涂酷 (too cool for school)'\n",
      " '花 (+ FlowerPlus)' '马路边边' 'GASTON LUGA' 'Gentle Monster' '凡士林 (Vaseline)'\n",
      " '奈雪的茶 (Nayuki)' '月影凯顿' '鱼跃 (yuwell)' 'AHC A.H.C' 'GIRLCULT' 'HBN'\n",
      " 'JORDAN' 'MYD' '古良吉吉 (WARMSTUDIO)' '子初 (Springbuds)' '安牧丹'\n",
      " '文墨 (ONE MORE)' '滋源 (SEEYOUNG)' '蜀大侠' '蜜丝婷 (MISTINE)' '阅农部落' '阿宽' 'BEATS'\n",
      " 'PECO' 'Staub' '一叶子 (One leaf)' '凯蒂猫\\xa0 (HELLOKITTY)'\n",
      " '欧德堡  (OLDENBURGER)' '罗技 (Logitech)' '英氏 (Engnice)' 'ZARA' '京华' '夸迪'\n",
      " '小林制药 (Kobayashi)' '谷雨 (GOODWAY)' '魅可 (M.A.C)' 'CEMOY' 'Maje' 'finish'\n",
      " '小壮熊 (XIAOZHAUNGXIONG)' '江南布衣 (JNBY)' '海尔 (Haier)' '苏菲娜 (SOFINA)'\n",
      " '一枝春 (OneSpring)' '亚马逊 (Amazon)' '斯凯奇 (SKECHERS)' \"欧莱雅 (L'Oreal)\"\n",
      " '蒂芙尼 (Tiffany&Co.)' 'Snidel' 'UGG' '六神' '兰亭' '宜家 (ikea)' 'Mango'\n",
      " '童年时光 (Childlife)' '纳斯 (NARS)' '蔻驰 (Coach)' '宝马 (BMW)' '拉杜丽 (Laduree)'\n",
      " \"李维斯 (LEVI'S)\" '欧缇丽 (CAUDALIE)' '爱马仕 (Hermes)' 'Jacquemus' '可复美'\n",
      " '悦诗风吟 (innisfree)' '红印 (red seal)' '菲丽菲拉 (peripera)' '麦丝玛拉 (MaxMara)'\n",
      " 'NYX' 'dolce' '克罗心 (chrome hearts)' '卡地亚 (Cartier)' '周大生 (CHOW TAI SENG)'\n",
      " '椰树' '源氏木语' '盼盼 (PP)' '阿迪达斯 (adidas)' '清扬 (CLEAR)' 'Keep' 'Loro Piana'\n",
      " 'Marni' '一只酸奶牛' '三丽鸥 (sanrio)' '巴黎世家 (Balenciaga)' '布洛芬 (Nurofen)'\n",
      " '帮宝适 (Pampers)' '星巴克 (Starbucks)' '轩尼诗 (Hennessy)' '酷彩 (Le Creuset)'\n",
      " '雅漾 (Avene)' 'IMMI' '养生堂' '千百度' '鄂尔多斯 (ERDOS)' 'Champion' 'Sacai'\n",
      " 'ssense' '大益 (TAETEA)' '帕尔玛之水 (Acqua di Parma)' '欧派' '蜂花 (BEE&FLOWER)'\n",
      " '透真 (LUCENBASE)' '露安适 (Lelch)' '露得清 (Neutrogena)' '香缇卡 (Chantecaille)'\n",
      " 'CeraVe' 'Hourglass' 'The Ginza' '三得利 (SUNTORY)' '佳洁士 (Crest)'\n",
      " '嘉利玛 (GALIMARD)' '嘉娜宝 (Kanebo)' '妮维雅 (NIVEA)' '迪桑特 (DESCENTE)' 'LILIA'\n",
      " '丝荻拉 (Stila)' '得鲜 (the saem)' '敷尔佳' '联合利华 (Unilever)'\n",
      " '葆蝶家 (Bottega Veneta)' '韩都衣舍 (HSTYLTE)' 'Enzo' '日清 (NISSIN)'\n",
      " '潘多拉 (PANDORA)' '皇家美素佳儿 (FRISO PRESTIGE)' '福临门' '拉面说 (Ramen Talk)'\n",
      " '拜尔 (BaiR)' '施华蔻 (Schwarzkopf)' '歌力思 (ELLASSAY)' '派克 (PARKER)'\n",
      " '滋色 (ZEESEA)' 'BRUNO' '全家 (FamilyMart)' '叶罗丽' '得宝 (Tempo)'\n",
      " '美宝莲 (Maybelline)' '花印 (HANAJIRUSHI)' 'Fomomy' '三菱 (MITSUBISHI)'\n",
      " '必胜客 (PizzaHut)' 'OiOi' '如新 (NUSKIN)' '赫莲娜 (HELENA RUBINSTEIN)' 'COSRX'\n",
      " 'MAXRIENY' '井田 (CANMAKE)' '凯度 (CasDON)' '波咯咯 (BOLOLO)'\n",
      " '芭比波朗 (Bobbi Brown)' '达芙妮 (Daphne)' '适乐肤 (CERAVE)' '避风塘' 'ESPOIR'\n",
      " '保时捷 (Porsche)' '奥迪 (Audi)' '江诗丹顿 (Vacheron Constantin)' 'KINDLE'\n",
      " '参半 (NYSCPS)' '周大福 (Chow Tai Fook)' '奥林巴斯 (OLYMPUS)' '奶糖派 (Candy La Vie)'\n",
      " '安慕斯 (Anmous)' '小浣熊' '可丽蓝 (Clearblue)' '珂莱欧 (CLUBCLIO)' '瞌睡兔' '高姿 (COGI)'\n",
      " '可丽金' '九阳 (Joyoung)' '奥利奥 (Oreo)' '安踏 (ANTA)' '普拉达 (PRADA)'\n",
      " '法拉利 (Ferrari)' '派通 (pentel)' '999' 'Colourpop' 'LACOSTE' 'Suqqu'\n",
      " 'The Ordinary' 'Too Faced' '丁香医生' '五粮液 (WULIANGYE)' '优衣库 (Uniqlo)'\n",
      " '唐狮 (TONLION)' '宝洁 (P&G)' '香蒲丽 (Shangpree)' 'NOVO' 'evm' '劳力士 (Rolex)'\n",
      " '宝丽来 (Polaroid)' '瑞妍 (Cellcosmet)' '贝玲妃 (Benefit)' 'JILL LEEN'\n",
      " 'Urban Outfitters' \"乐事 (Lay's)\" '云南白药' '热风 (hotwind)' '白云山' '英特尔 (INTEL)'\n",
      " '赛客 (SEIKO)' 'CROCS' 'Guidi' 'Huda Beauty' '双汇' '周仰杰 (Jimmy Choo)' '嘻螺会'\n",
      " '立白' '美乐家 (Melitta)' '衰败城市 (URBAN DECAY)' 'potato' '三宅一生 (Issey Miyake)'\n",
      " '乐高 (Lego)' '合生元 (Biostime)' '安尼施卡普尔' '泡泡玛特 (POP MART)' '澳尔滨 (ALBION)'\n",
      " '芙丽芳丝 (freeplus)' '薇薇安·魏斯伍德 (Vivienne Westwood)' 'Loop' 'MOODY'\n",
      " 'off white' '三月理' '佑天兰 (utena)' '斯沃琪 (Swatch)' '曼卡龙 (MANCA DRAGON)'\n",
      " '英树 (INGLEMIREPHARM’S)' '香奈儿 (Chanel)' '馥绿德雅 (Rene Furterer)' 'INXX'\n",
      " 'Subtle' '三元 (SY)' '乐敦 (Rohto)' '安娜苏 (Anna Sui)' '萌动' '三顿半' '五谷磨房'\n",
      " '佳能 (Canon)' '坚果 (JMGO)' '娥佩兰 (Opera)' '格雅 (geya)' '高途乐 (GoPro)'\n",
      " 'STARTER' 'pronovias' '仁和' '卡萨帝 (CASARTE)' '绽妍'\n",
      " '国家地理 (National Geographic)' '拉菲斯汀 (La Festin)' '日默瓦 (RIMOWA)'\n",
      " '沐春 (MUCHUN)' \"潘海利根 (Penhaligon's)\" '玫珂菲 (MAKE UP FOR EVER)' '瑞德 (CREST)'\n",
      " '瑷嘉莎 (AGATHA)' '&Other Stories' 'SOINLOVE' '城门口' '楼上' '联想 (lenovo)'\n",
      " '艾惟诺 (AVEENO)' '苏菲 (Sofy)' 'DAZZLE' 'GXG' 'SLY' 'EENK' '丝塔芙 (cetaphil)'\n",
      " '吉列 (Gillette)' '海澜之家 (HLA)' 'Marimekko' 'UNIFREE' '强生 (Johnson&Johnson)'\n",
      " '酒拾烤肉' 'BABYCARE' 'THEORY' '克徕帝 (CRD)' '吕 (RYO)' '浪凡 (Lanvin)'\n",
      " '莫斯奇诺 (Moschino)' '尚美巴黎 (Chaumet)' '康宝莱 (HERBALIFE)' '蔡司 (ZEISS)' '透蜜'\n",
      " '野兽派 (THE BEAST)' 'Native' 'SK-II' '凌美 (LAMY)' '只投螺碗'\n",
      " '安德玛 (Under Armour)' '尼康 (Nikon)' '巴拉巴拉 (Balabala)' '海氏 (Hauswirt)' '德佑'\n",
      " 'AAPE' 'HEDONE' 'Natura Bisse' '飘柔 (Rejoice)' 'AOEO' 'ONLY' 'bebebus'\n",
      " '上好佳 (Oishi)' '丰田 (Toyota)' '亚历山大·麦昆 Alexander McQueen' '伊利'\n",
      " '匡威 (Converse)' '小趣 (IQOO)' '茵芙莎 (IPSA)' 'Darling' 'ETVOS' 'TAKAMI'\n",
      " '任天堂 (Nintendo)' '光明' '相宜本草 (INOHERB)' '诚品书店' 'LOW CLASSIC'\n",
      " '博柏利 (BURBERRY)' '天梭 (Tissot)' '海天 (HADAY)' '莱绅通灵 (LEYSEN1855)' 'Sandro'\n",
      " '巴布豆 (BOBDOG)' '思达西 (Stussy)' 'BABAMA' 'ReFa' 'biubiu'\n",
      " '六福珠宝 (LUKFOOK JEWELLERY)' '花点时间' \"A'PIEU\" 'carhartt' '拉科斯特 (LACOSTE)'\n",
      " '汤达人' '玉泽 (DR.YU)' '秋水伊人' '蒂普提克 (diptyque)' 'ADER error' 'FREITAG' 'MECO'\n",
      " 'mikihouse' '全棉时代 (PurCotton)' '同仁堂' '来伊份' '汉堡王' '盒马' '可优比 (KUB)' '永和豆浆'\n",
      " '海飞丝 (Head&shoulders)' \"烙色 (L'ADORE COLORS)\" 'Moussy' 'OHSUNNY'\n",
      " '芳珂 (FANCL)' 'Massimo Dutti' '大创 (DAISO)' '柳屋 (YANAGIYA)' '桃花源记'\n",
      " 'essence' 'zeal' '岚舒 (LUSH)' '希思黎 (sisley)' '碧欧泉 (Biotherm)'\n",
      " '美迪惠尔 (MEDIHEAL)' 'DHC' 'OATLY' '展艺 (ART EXHIBITION)' '恒洁 (HEGII)'\n",
      " '汰渍 (tide)' '洁碧 (waterpik)' '爱普生 (EPSON)' '知味观' '礼成'\n",
      " '美体小铺 (THE BODY SHOP)' '美德乐 (Medela)' '花厨 (tomacado)' '螺霸王' '鲍师傅' 'never'\n",
      " '九牧 (JOMOO)' '德运 (Devondale)' '柏翠 (Petrus)' 'CHiC' 'Delvaux' 'ELTA MD'\n",
      " 'Stylenanda' 'TCL' '江原道 (Koh Gen Do)' '麦德氏 (IN-PLUS)' 'Swisse'\n",
      " '三只松鼠 (THREE SQUIRRELS)' '奥伦纳素 (Erno Laszlo)' '新安怡 (AVENT)'\n",
      " '潮宏基 (CHJ JEWELLERY)' '羽西' '高露洁 (Colgate)' '87MM' '品高 (Pinko)'\n",
      " '耐克 (Nike)' 'sudio' '不二家' '小奥汀 (Little Ondine)' '隐适美 (Invisalign)'\n",
      " '川久保玲 (Comme des Garcons)' '文和友' '格莱魅 (Glamglow)'\n",
      " '梵克雅宝 (Van Cleef & Arpels)' '老金磨方' '谜尚 (MISSHA)' '逐本' '飞科 (FLYCO)'\n",
      " 'G-Shock' 'Olivia' 'Purpose' '喜马拉雅' '思拓科 (STOKKE)' '法尔曼 (Valmont)'\n",
      " '百雀羚 (Pechoin)' '芙拉 (FURLA)' '青岛啤酒 (TSINGTAO)' 'Farmacy' '冠军 (CHAMPION)'\n",
      " '安慕希' '思加图 (STACCATO)' 'Graff' 'Jellycat' 'RMK' '七年五季' '九田家' '多美绣 (DMC)'\n",
      " '无印良品 (MUJI)' '暴走的萝莉 (sylphlike loli)' '宿系之源' '戴尔 (DELL)'\n",
      " '百植萃 (BIOPHYTOGENESIS)' '范德安 (BALNEAIRE)' 'COMBO' '凤凰 (Phoenix)' '珍视明'\n",
      " '蒙牛 (Mengniu)' '伊娃 (EVATIE)' '伊蒂之屋 (Etude House)' '冰力克 (blink)'\n",
      " '南墙 (Nowall)' '后 (The History of Whoo)' '启赋 (Illuma)' '自嗨锅' '雅芳 (AVON)'\n",
      " '乔治阿玛尼 (Giorgio Armani)' '容声 (RONSHEN)' '方特' '腾达 (TD)' '艾熙 (ASH)' '费大厨'\n",
      " '钻石世家' 'Salad' 'chuu' '吉野家' '西麦' '安瓶 (CEMOY)' '御木本 (Mikimoto)'\n",
      " '村上隆 (Takashi Murakami)' '橘朵 (Judydoll)' '泰迪熊 (TEDDY BEAR)'\n",
      " '海信 (HISENSE)' '君乐宝' '朗姿 (LANCY FROM 25)' '李锦记 (LEE KUM KEE)'\n",
      " '梦妆 (Mamonde)' '点都德' '黄金鹅 (golden goose)' 'CIRCLE' '伊肤泉 (EVE CHARM)'\n",
      " '佰草集 (Herborist)' '吉普 (Jeep)' '欧诗漫 (osm)' '海昌' '澳宝 (Opal)'\n",
      " '爱茉莉 (ARITAUM)' '纽西之谜 (geoskincare)' '虎贝尔 (HBR)' 'MARO' 'Olay' 'SOUP'\n",
      " '十月结晶' '密汐皙迪 (Micisty)' '柯达 (Kodak)' '欧舒丹 (L‘OCCITANE)'\n",
      " '理肤泉 (LA ROCHE-POSAY)' '白草莓 (WHITE ICHIGO)' '西屋 (Westinghouse)'\n",
      " '黛珂 (COSME DECORTE)' 'AMIRO' 'LE FAME' 'USANA' '汉斯格雅 (Hansgrohe)' 'GINZA'\n",
      " 'TATTOO' 'ZIWI' 'vnk' '东阿阿胶' '欧时力 (ochirly)' '背背佳 (BABAKA)' '雅阁'\n",
      " '泸州老窖 (LUZHOULAOJIAO)' '百奇 (Pocky)' '肌研 (Hada Labo)' '芭比 (Barbie)'\n",
      " '西蒙娜·罗莎 Simone Rocha' '千叶' '外星人 (ALIENWARE)' '金领冠' 'Acne Studios'\n",
      " 'Hollister' 'Zippo' '德克士' '德玛 (Derma)' '雅诗兰黛 (Estee Lauder)' 'Redearth'\n",
      " '丸美' '乌丫 (UOOYAA)' '城野医生 (Dr.Ci:Labo)' '完美日记 (perfect diary)'\n",
      " '百威 (Budweiser)' '碧柔 (Biore)' '花西子' 'BECCA' '娇兰 (Guerlain)' '新科 (SHINCO)'\n",
      " '添柏岚 (Timberland)' '高田贤三 (Kenzo)' 'FLANMY' 'Ubras' '史努比 (SNOOPY)'\n",
      " '日月晶采 (Lunasol)' '永璞' 'AMD' 'Pocket' 'Slip' '卡特兔 (CRTARTU)'\n",
      " '浪琴 (Longines)' '王老吉 (WANGLAOJI)' '米其林 (MICHELIN)' 'A2' 'Pouch'\n",
      " 'apm MONACO' '三养 (Samyang)' \"科颜氏 (Kiehl's)\" 'Fenty Beauty' 'ROARINGWILD'\n",
      " 'vivo' '三叶草 (adidas Originals)' '泰兰尼斯 (Taranis)' '科罗娜 (CORONA)'\n",
      " '美素 (FRISO)' '超级猩猩 (SUPERMONKEY)' 'Line Friends' 'Maison Margiela' '劳斯莱斯'\n",
      " '卡骆驰 (Crocs)' '米家 (MIJIA)' '罗意威 (Loewe)' '金龙鱼' 'BOSIE' 'Re-Ment' '北冰洋'\n",
      " '华凌' '曼秀雷敦 (MENTHOLATUM)' '禾泱泱 (Rivsea)' 'Tripollar' 'UR' 'usmile'\n",
      " '众客 (Zakka)' '南京大牌档' '古茗' '妙思乐 (Mustela)' '弄堂里' '悦木之源 (ORIGINS)'\n",
      " '法卡勒 (FINECOLOUR)' '海蓝之谜 (LA MER)' '约克' '芝华仕 (CHEERS)'\n",
      " '芦丹氏 (Serge Lutens)' '蒂佳婷 (Dr.Jart+)' 'OLENS' 'SNP' '好丽友 (ORION)'\n",
      " '德妃 (DERMAFIRM+)' '怡宝' '狮王 (LION)' '缪缪 (Miu Miu)' 'MJ STYLE' '谢瑞麟 (TSL)'\n",
      " '倍思 (BASEUS)' '戴森 (dyson)' '新百伦 (New Balance)' '欧扎克' '科勒 (KOHLER)'\n",
      " '隅田川 (TASOGARE)' 'Blythe' 'KANGOL' \"伊思 (it's skin)\" '伯爵 (Piaget)'\n",
      " '周生生 (Chow Sang Sang)' '所望 (SOMANG)' '王小卤' '蛙小侠' '路易威登 (Louis Vuitton)'\n",
      " '雪碧 (sprite)' '三星 (SAMSUNG)' '博士伦 (Bausch+Lomb)' '好利来 (holiland)'\n",
      " '尤目 (YVMIN)' '植村秀 (shu uemura)' '维他奶 (Vitasoy)'\n",
      " '肌肤之钥 (clé de Peau Beauté)' 'JACOBS' '博朗 (BRAUN)' '茶颜悦色' '蓝月亮' '鲜芋仙'\n",
      " 'Anastasia' 'The North Face' 'blings' '万宁 (mannings)' '冰希黎 (Boitown)'\n",
      " 'KVK' 'Reformation' '塔思琦 (Tasaki)' '斐来仕 (FILOFAX)' '菲拉格慕 (FERRAGAMO)'\n",
      " 'LILBETTER' 'Stridex' 'iconic' '太二' '拉菲 (LAFITE)' 'CHRISTIANLOUBOUTIN'\n",
      " 'EVE LOM' 'JOVS' '百福 (BUFF)' 'Kinbor' '丝芙兰 (SEPHORA)' '佳茵 (CHICBELLE)'\n",
      " '周黑鸭' '海俪恩 (HORIEN)' '自然堂' 'H&M' '浪漫制果 (ROMANCE)' '祖·玛珑 Jo Malone London'\n",
      " '纽崔莱 (NUTRILITE)' '认养一头牛' '赛百味' '3CE (STYLENANDA 3CE)' 'TOI' '华硕 (ASUS)'\n",
      " '呷哺呷哺' '威露士 (Walch)' '惠氏 (Wyeth)' '阿拉比亚 (Arabia)' '颜如玉胶原肽 颜如玉' 'BYREDO'\n",
      " 'URBAN REVIVO' '宝格丽 (BVLGARI)' '屈臣氏 (Watsons)' '巴宝莉 (BURBERRY)'\n",
      " '歌帝梵 (Godiva)' 'REVER' '老凤祥' '豆本豆' 'INJOYLIFE' 'RIMOWA' '安耐晒 (Anessa)'\n",
      " '美滋滋' '芘亚芭 (BEABA)' '52TOYS' 'VIVIENNE WESTWOOD' '出前一丁' '喜茶 (HEYTEA)'\n",
      " '美帕 (MEDSPA)' '霸王 (BAWANG)' 'RNW' 'Supreme' '分 (90)' '娃哈哈 (WAHAHA)' '小仙炖'\n",
      " '德美乐嘉 (Dermalogica)' 'PCS' '乐町' '瓷肌 (SPA CHNSKIN)' '依泉 (URIAGE)'\n",
      " '倩碧 (Clinique)' '嘉媚乐 (CAMENAE)' '广州 (K11)' '施华洛世奇 (Swarovski)'\n",
      " '爱步 (ECCO)' '荣耀 (Honor)' '雪花秀 (Sulwhasoo)' 'COCO' 'JIL SANDER' 'because'\n",
      " 'uma wang' '亚历山大·王 Alexander Wang' '秀肤生 (Cell Fusion C)'\n",
      " '鲨鱼菲特 (SHARKFIT)' 'SMFK' '唯克仕 (WIS)' '回力 (Warrior)' '宇舶 (Hublot)'\n",
      " '欧珀莱 (AUPRES)' '艾诗 (ENCHANTEUR)' '贝德玛 (BIODERMA)' '迪奥 (Dior)'\n",
      " '麦富迪 (MYFOODIE)' 'APIEU' '伊索 (Aesop)' '科沃斯 (ECOVACS)' '稻草人' '肯德基 (KFC)'\n",
      " '言几又' '3COLOUR' \"毕生之研 (Peterson's Lab)\" '江小白' '虎牌 (tiger)'\n",
      " '珂拉琪 (COLORKEY)' '西铁城 (CITIZEN)' '韩熙 (HANXI)' 'GROVE' 'vetements' '书亦'\n",
      " '修正' '兰蔻 (Lancome)' '参天 (SANTEN-FX)' '喜之郎 (Strong)' '柏瑞美 (PRAMY)'\n",
      " '海底捞 (HaiDiLao)' '滴露 (Dettol)' '荷诺 (Histoire naturelle)' 'little tiny'\n",
      " '拾柒' '索尼 (SONY)' '迈宝瑞 (Mulberry)' '迪士尼 (Disney)' '雪肌精 (SEKKISEI)'\n",
      " '马歇尔 (Marshall)' '伊丽莎白雅顿 (Elizabeth Arden)' '伊芙丽 (eifini)' '巧虎 (SUNSTAR)'\n",
      " '橙子快跑' 'BBIA' 'Wedgwood' '修丽可 (SKIN CEUTICALS)' '卡芬诗 (CANVAS)'\n",
      " '奇士美 (kissme)' '奥蜜思 (ORBIS)' '怡丽丝尔 (ELIXIR)' '洽洽' '明基 (BENQ)'\n",
      " '菲洛嘉 (FILORGA)' '钟薛高' 'Aritzia' 'MO&Co.' '元気森林' '馥蕾诗 (FRESH)' 'LG'\n",
      " '汤臣倍健 (BY-HEALTH)' 'initial' '大宇 (DAEWOO)' '德芙 (Dove Chocolate)'\n",
      " '摇滚动物园 (ROCKING ZOO)' '旁氏 (PONDS)' '森马 (SEMIR)' '薇诺娜 (WINONA)'\n",
      " '雀巢 (NESTLE)' 'Topshop' 'VERSACE' '个乐 (GROTTO)' '华伦天奴 (Valentino)'\n",
      " '扬子 (YANGZ)' '松下 (Panasonic)']\n"
     ]
    }
   ],
   "source": [
    "#列出总共有多少个不同品牌（unique values of the brand column）\n",
    "brands_total = dfred['brand'].unique()\n",
    "print(brands_total)"
   ]
  },
  {
   "cell_type": "code",
   "execution_count": 7,
   "id": "20d56553",
   "metadata": {},
   "outputs": [],
   "source": [
    "#删除content是空的那些行\n",
    "dfred = dfred[dfred['content'].notna()]\n",
    "\n",
    "###文本清洗（清洗后的column名字为clean_cmt）\n",
    "import re\n",
    "def process_text(text):\n",
    "    text = re.sub(r\"[0-9]+\", '', text) \n",
    "    text = re.sub(r'\\s+',' ',text)\n",
    "    text = text.lower()\n",
    "    text = re.sub(r'\\d',' ',text)\n",
    "    text = re.sub(r'\\s+',' ',text)\n",
    "    text = ''.join(e for e in text if e.isalnum())\n",
    "    return text\n",
    "\n",
    "content = dfred['content'].dropna() #把空的content去掉\n",
    "processed_content = []\n",
    "for i in range(len(content)):\n",
    "    processed_content.append([process_text(content.iloc[i])])"
   ]
  },
  {
   "cell_type": "code",
   "execution_count": 8,
   "id": "0bb8f1c3",
   "metadata": {},
   "outputs": [],
   "source": [
    "import numpy as np\n",
    "dfred[\"clean_cmt\"] = np.array(processed_content)"
   ]
  },
  {
   "cell_type": "code",
   "execution_count": 9,
   "id": "e5450f95",
   "metadata": {},
   "outputs": [
    {
     "data": {
      "text/html": [
       "<div>\n",
       "<style scoped>\n",
       "    .dataframe tbody tr th:only-of-type {\n",
       "        vertical-align: middle;\n",
       "    }\n",
       "\n",
       "    .dataframe tbody tr th {\n",
       "        vertical-align: top;\n",
       "    }\n",
       "\n",
       "    .dataframe thead th {\n",
       "        text-align: right;\n",
       "    }\n",
       "</style>\n",
       "<table border=\"1\" class=\"dataframe\">\n",
       "  <thead>\n",
       "    <tr style=\"text-align: right;\">\n",
       "      <th></th>\n",
       "      <th>brand</th>\n",
       "      <th>note_id</th>\n",
       "      <th>content</th>\n",
       "      <th>likes</th>\n",
       "      <th>rnk</th>\n",
       "      <th>clean_cmt</th>\n",
       "    </tr>\n",
       "  </thead>\n",
       "  <tbody>\n",
       "    <tr>\n",
       "      <th>0</th>\n",
       "      <td>BEASTER</td>\n",
       "      <td>608f64710000000021036b18</td>\n",
       "      <td>OOTD丨夏季蓝色系穿搭丨破洞裤绝绝子！本人16390\\n衬衫：Beaster（s）颜色还挺...</td>\n",
       "      <td>5524</td>\n",
       "      <td>1</td>\n",
       "      <td>ootd丨夏季蓝色系穿搭丨破洞裤绝绝子本人衬衫beasters颜色还挺衬肤色的polo短袖不...</td>\n",
       "    </tr>\n",
       "    <tr>\n",
       "      <th>1</th>\n",
       "      <td>BEASTER</td>\n",
       "      <td>60965fd90000000001025d41</td>\n",
       "      <td>🎁520送男友礼物推荐～最近刷到很多姐妹都在为520送男朋友什么礼物发愁[吧唧R]送男朋友比...</td>\n",
       "      <td>4635</td>\n",
       "      <td>2</td>\n",
       "      <td>送男友礼物推荐最近刷到很多姐妹都在为送男朋友什么礼物发愁吧唧r送男朋友比送姐妹礼物难多了每次...</td>\n",
       "    </tr>\n",
       "    <tr>\n",
       "      <th>2</th>\n",
       "      <td>BEASTER</td>\n",
       "      <td>6055d8fb000000000102bff8</td>\n",
       "      <td>OOTD｜今天好韩哦🍳咸菜绿情侣T恤好高级✨好喜欢现在可以乱穿衣服的季节！！\\n这件咸菜绿的...</td>\n",
       "      <td>4417</td>\n",
       "      <td>3</td>\n",
       "      <td>ootd今天好韩哦咸菜绿情侣t恤好高级好喜欢现在可以乱穿衣服的季节这件咸菜绿的长袖t好高级感...</td>\n",
       "    </tr>\n",
       "    <tr>\n",
       "      <th>3</th>\n",
       "      <td>BEASTER</td>\n",
       "      <td>6086867b000000002103ba0e</td>\n",
       "      <td>坐我腿上还是坐我腰上？-周末去逛了一下泡桐树街，里面开了非常多不错的咖啡小店，#PickCo...</td>\n",
       "      <td>3351</td>\n",
       "      <td>4</td>\n",
       "      <td>坐我腿上还是坐我腰上周末去逛了一下泡桐树街里面开了非常多不错的咖啡小店pickcoffee就...</td>\n",
       "    </tr>\n",
       "    <tr>\n",
       "      <th>4</th>\n",
       "      <td>BEASTER</td>\n",
       "      <td>600112270000000001000d91</td>\n",
       "      <td>不看必后悔系列✨103家明星同款国潮韩潮店[害羞R][害羞R]我以前是不穿潮牌的，觉得这种小...</td>\n",
       "      <td>3277</td>\n",
       "      <td>5</td>\n",
       "      <td>不看必后悔系列家明星同款国潮韩潮店害羞r害羞r我以前是不穿潮牌的觉得这种小众原创设计肯定特别...</td>\n",
       "    </tr>\n",
       "  </tbody>\n",
       "</table>\n",
       "</div>"
      ],
      "text/plain": [
       "     brand                   note_id  \\\n",
       "0  BEASTER  608f64710000000021036b18   \n",
       "1  BEASTER  60965fd90000000001025d41   \n",
       "2  BEASTER  6055d8fb000000000102bff8   \n",
       "3  BEASTER  6086867b000000002103ba0e   \n",
       "4  BEASTER  600112270000000001000d91   \n",
       "\n",
       "                                             content  likes  rnk  \\\n",
       "0  OOTD丨夏季蓝色系穿搭丨破洞裤绝绝子！本人16390\\n衬衫：Beaster（s）颜色还挺...   5524    1   \n",
       "1  🎁520送男友礼物推荐～最近刷到很多姐妹都在为520送男朋友什么礼物发愁[吧唧R]送男朋友比...   4635    2   \n",
       "2  OOTD｜今天好韩哦🍳咸菜绿情侣T恤好高级✨好喜欢现在可以乱穿衣服的季节！！\\n这件咸菜绿的...   4417    3   \n",
       "3  坐我腿上还是坐我腰上？-周末去逛了一下泡桐树街，里面开了非常多不错的咖啡小店，#PickCo...   3351    4   \n",
       "4  不看必后悔系列✨103家明星同款国潮韩潮店[害羞R][害羞R]我以前是不穿潮牌的，觉得这种小...   3277    5   \n",
       "\n",
       "                                           clean_cmt  \n",
       "0  ootd丨夏季蓝色系穿搭丨破洞裤绝绝子本人衬衫beasters颜色还挺衬肤色的polo短袖不...  \n",
       "1  送男友礼物推荐最近刷到很多姐妹都在为送男朋友什么礼物发愁吧唧r送男朋友比送姐妹礼物难多了每次...  \n",
       "2  ootd今天好韩哦咸菜绿情侣t恤好高级好喜欢现在可以乱穿衣服的季节这件咸菜绿的长袖t好高级感...  \n",
       "3  坐我腿上还是坐我腰上周末去逛了一下泡桐树街里面开了非常多不错的咖啡小店pickcoffee就...  \n",
       "4  不看必后悔系列家明星同款国潮韩潮店害羞r害羞r我以前是不穿潮牌的觉得这种小众原创设计肯定特别...  "
      ]
     },
     "execution_count": 9,
     "metadata": {},
     "output_type": "execute_result"
    }
   ],
   "source": [
    "dfred.head()"
   ]
  },
  {
   "cell_type": "code",
   "execution_count": null,
   "id": "73dbd4ed",
   "metadata": {},
   "outputs": [
    {
     "ename": "RuntimeError",
     "evalue": "The size of tensor a (513) must match the size of tensor b (512) at non-singleton dimension 1",
     "output_type": "error",
     "traceback": [
      "\u001b[0;31m---------------------------------------------------------------------------\u001b[0m",
      "\u001b[0;31mRuntimeError\u001b[0m                              Traceback (most recent call last)",
      "\u001b[0;32m<ipython-input-54-1c86c2d405c4>\u001b[0m in \u001b[0;36m<module>\u001b[0;34m\u001b[0m\n\u001b[1;32m     19\u001b[0m         \u001b[0;32mfor\u001b[0m \u001b[0mnote\u001b[0m \u001b[0;32min\u001b[0m \u001b[0mnotelist\u001b[0m\u001b[0;34m:\u001b[0m \u001b[0;31m#list下的每一条文本\u001b[0m\u001b[0;34m\u001b[0m\u001b[0;34m\u001b[0m\u001b[0m\n\u001b[1;32m     20\u001b[0m             \u001b[0;32mif\u001b[0m \u001b[0mlen\u001b[0m\u001b[0;34m(\u001b[0m\u001b[0mnote\u001b[0m\u001b[0;34m)\u001b[0m \u001b[0;34m>\u001b[0m \u001b[0;36m511\u001b[0m\u001b[0;34m:\u001b[0m  \u001b[0;31m#对于超过512个字符的评论，只得进行截取前512个字符\u001b[0m\u001b[0;34m\u001b[0m\u001b[0;34m\u001b[0m\u001b[0m\n\u001b[0;32m---> 21\u001b[0;31m                 \u001b[0mbrands_result_total\u001b[0m\u001b[0;34m[\u001b[0m\u001b[0mi\u001b[0m\u001b[0;34m]\u001b[0m\u001b[0;34m.\u001b[0m\u001b[0mappend\u001b[0m\u001b[0;34m(\u001b[0m\u001b[0mtext_classification\u001b[0m\u001b[0;34m(\u001b[0m\u001b[0mnote\u001b[0m\u001b[0;34m[\u001b[0m\u001b[0;34m:\u001b[0m\u001b[0;36m511\u001b[0m\u001b[0;34m]\u001b[0m\u001b[0;34m)\u001b[0m\u001b[0;34m)\u001b[0m \u001b[0;31m#对这一条文本打分，加入到品牌的打分list\u001b[0m\u001b[0;34m\u001b[0m\u001b[0;34m\u001b[0m\u001b[0m\n\u001b[0m\u001b[1;32m     22\u001b[0m             \u001b[0;32melse\u001b[0m\u001b[0;34m:\u001b[0m\u001b[0;34m\u001b[0m\u001b[0;34m\u001b[0m\u001b[0m\n\u001b[1;32m     23\u001b[0m                 \u001b[0mbrands_result_total\u001b[0m\u001b[0;34m[\u001b[0m\u001b[0mi\u001b[0m\u001b[0;34m]\u001b[0m\u001b[0;34m.\u001b[0m\u001b[0mappend\u001b[0m\u001b[0;34m(\u001b[0m\u001b[0mtext_classification\u001b[0m\u001b[0;34m(\u001b[0m\u001b[0mnote\u001b[0m\u001b[0;34m)\u001b[0m\u001b[0;34m)\u001b[0m\u001b[0;34m\u001b[0m\u001b[0;34m\u001b[0m\u001b[0m\n",
      "\u001b[0;32m~/anaconda3/envs/python3/lib/python3.6/site-packages/transformers/pipelines.py\u001b[0m in \u001b[0;36m__call__\u001b[0;34m(self, *args, **kwargs)\u001b[0m\n\u001b[1;32m    973\u001b[0m             \u001b[0mIf\u001b[0m\u001b[0;31m \u001b[0m\u001b[0;31m`\u001b[0m\u001b[0;31m`\u001b[0m\u001b[0mself\u001b[0m\u001b[0;34m.\u001b[0m\u001b[0mreturn_all_scores\u001b[0m\u001b[0;34m=\u001b[0m\u001b[0;32mTrue\u001b[0m\u001b[0;31m`\u001b[0m\u001b[0;31m`\u001b[0m\u001b[0;34m,\u001b[0m \u001b[0mone\u001b[0m \u001b[0msuch\u001b[0m \u001b[0mdictionary\u001b[0m \u001b[0;32mis\u001b[0m \u001b[0mreturned\u001b[0m \u001b[0mper\u001b[0m \u001b[0mlabel\u001b[0m\u001b[0;34m.\u001b[0m\u001b[0;34m\u001b[0m\u001b[0;34m\u001b[0m\u001b[0m\n\u001b[1;32m    974\u001b[0m         \"\"\"\n\u001b[0;32m--> 975\u001b[0;31m         \u001b[0moutputs\u001b[0m \u001b[0;34m=\u001b[0m \u001b[0msuper\u001b[0m\u001b[0;34m(\u001b[0m\u001b[0;34m)\u001b[0m\u001b[0;34m.\u001b[0m\u001b[0m__call__\u001b[0m\u001b[0;34m(\u001b[0m\u001b[0;34m*\u001b[0m\u001b[0margs\u001b[0m\u001b[0;34m,\u001b[0m \u001b[0;34m**\u001b[0m\u001b[0mkwargs\u001b[0m\u001b[0;34m)\u001b[0m\u001b[0;34m\u001b[0m\u001b[0;34m\u001b[0m\u001b[0m\n\u001b[0m\u001b[1;32m    976\u001b[0m \u001b[0;34m\u001b[0m\u001b[0m\n\u001b[1;32m    977\u001b[0m         \u001b[0;32mif\u001b[0m \u001b[0mself\u001b[0m\u001b[0;34m.\u001b[0m\u001b[0mmodel\u001b[0m\u001b[0;34m.\u001b[0m\u001b[0mconfig\u001b[0m\u001b[0;34m.\u001b[0m\u001b[0mnum_labels\u001b[0m \u001b[0;34m==\u001b[0m \u001b[0;36m1\u001b[0m\u001b[0;34m:\u001b[0m\u001b[0;34m\u001b[0m\u001b[0;34m\u001b[0m\u001b[0m\n",
      "\u001b[0;32m~/anaconda3/envs/python3/lib/python3.6/site-packages/transformers/pipelines.py\u001b[0m in \u001b[0;36m__call__\u001b[0;34m(self, *args, **kwargs)\u001b[0m\n\u001b[1;32m    634\u001b[0m     \u001b[0;32mdef\u001b[0m \u001b[0m__call__\u001b[0m\u001b[0;34m(\u001b[0m\u001b[0mself\u001b[0m\u001b[0;34m,\u001b[0m \u001b[0;34m*\u001b[0m\u001b[0margs\u001b[0m\u001b[0;34m,\u001b[0m \u001b[0;34m**\u001b[0m\u001b[0mkwargs\u001b[0m\u001b[0;34m)\u001b[0m\u001b[0;34m:\u001b[0m\u001b[0;34m\u001b[0m\u001b[0;34m\u001b[0m\u001b[0m\n\u001b[1;32m    635\u001b[0m         \u001b[0minputs\u001b[0m \u001b[0;34m=\u001b[0m \u001b[0mself\u001b[0m\u001b[0;34m.\u001b[0m\u001b[0m_parse_and_tokenize\u001b[0m\u001b[0;34m(\u001b[0m\u001b[0;34m*\u001b[0m\u001b[0margs\u001b[0m\u001b[0;34m,\u001b[0m \u001b[0;34m**\u001b[0m\u001b[0mkwargs\u001b[0m\u001b[0;34m)\u001b[0m\u001b[0;34m\u001b[0m\u001b[0;34m\u001b[0m\u001b[0m\n\u001b[0;32m--> 636\u001b[0;31m         \u001b[0;32mreturn\u001b[0m \u001b[0mself\u001b[0m\u001b[0;34m.\u001b[0m\u001b[0m_forward\u001b[0m\u001b[0;34m(\u001b[0m\u001b[0minputs\u001b[0m\u001b[0;34m)\u001b[0m\u001b[0;34m\u001b[0m\u001b[0;34m\u001b[0m\u001b[0m\n\u001b[0m\u001b[1;32m    637\u001b[0m \u001b[0;34m\u001b[0m\u001b[0m\n\u001b[1;32m    638\u001b[0m     \u001b[0;32mdef\u001b[0m \u001b[0m_forward\u001b[0m\u001b[0;34m(\u001b[0m\u001b[0mself\u001b[0m\u001b[0;34m,\u001b[0m \u001b[0minputs\u001b[0m\u001b[0;34m,\u001b[0m \u001b[0mreturn_tensors\u001b[0m\u001b[0;34m=\u001b[0m\u001b[0;32mFalse\u001b[0m\u001b[0;34m)\u001b[0m\u001b[0;34m:\u001b[0m\u001b[0;34m\u001b[0m\u001b[0;34m\u001b[0m\u001b[0m\n",
      "\u001b[0;32m~/anaconda3/envs/python3/lib/python3.6/site-packages/transformers/pipelines.py\u001b[0m in \u001b[0;36m_forward\u001b[0;34m(self, inputs, return_tensors)\u001b[0m\n\u001b[1;32m    655\u001b[0m                 \u001b[0;32mwith\u001b[0m \u001b[0mtorch\u001b[0m\u001b[0;34m.\u001b[0m\u001b[0mno_grad\u001b[0m\u001b[0;34m(\u001b[0m\u001b[0;34m)\u001b[0m\u001b[0;34m:\u001b[0m\u001b[0;34m\u001b[0m\u001b[0;34m\u001b[0m\u001b[0m\n\u001b[1;32m    656\u001b[0m                     \u001b[0minputs\u001b[0m \u001b[0;34m=\u001b[0m \u001b[0mself\u001b[0m\u001b[0;34m.\u001b[0m\u001b[0mensure_tensor_on_device\u001b[0m\u001b[0;34m(\u001b[0m\u001b[0;34m**\u001b[0m\u001b[0minputs\u001b[0m\u001b[0;34m)\u001b[0m\u001b[0;34m\u001b[0m\u001b[0;34m\u001b[0m\u001b[0m\n\u001b[0;32m--> 657\u001b[0;31m                     \u001b[0mpredictions\u001b[0m \u001b[0;34m=\u001b[0m \u001b[0mself\u001b[0m\u001b[0;34m.\u001b[0m\u001b[0mmodel\u001b[0m\u001b[0;34m(\u001b[0m\u001b[0;34m**\u001b[0m\u001b[0minputs\u001b[0m\u001b[0;34m)\u001b[0m\u001b[0;34m[\u001b[0m\u001b[0;36m0\u001b[0m\u001b[0;34m]\u001b[0m\u001b[0;34m.\u001b[0m\u001b[0mcpu\u001b[0m\u001b[0;34m(\u001b[0m\u001b[0;34m)\u001b[0m\u001b[0;34m\u001b[0m\u001b[0;34m\u001b[0m\u001b[0m\n\u001b[0m\u001b[1;32m    658\u001b[0m \u001b[0;34m\u001b[0m\u001b[0m\n\u001b[1;32m    659\u001b[0m         \u001b[0;32mif\u001b[0m \u001b[0mreturn_tensors\u001b[0m\u001b[0;34m:\u001b[0m\u001b[0;34m\u001b[0m\u001b[0;34m\u001b[0m\u001b[0m\n",
      "\u001b[0;32m~/anaconda3/envs/python3/lib/python3.6/site-packages/torch/nn/modules/module.py\u001b[0m in \u001b[0;36m_call_impl\u001b[0;34m(self, *input, **kwargs)\u001b[0m\n\u001b[1;32m    725\u001b[0m             \u001b[0mresult\u001b[0m \u001b[0;34m=\u001b[0m \u001b[0mself\u001b[0m\u001b[0;34m.\u001b[0m\u001b[0m_slow_forward\u001b[0m\u001b[0;34m(\u001b[0m\u001b[0;34m*\u001b[0m\u001b[0minput\u001b[0m\u001b[0;34m,\u001b[0m \u001b[0;34m**\u001b[0m\u001b[0mkwargs\u001b[0m\u001b[0;34m)\u001b[0m\u001b[0;34m\u001b[0m\u001b[0;34m\u001b[0m\u001b[0m\n\u001b[1;32m    726\u001b[0m         \u001b[0;32melse\u001b[0m\u001b[0;34m:\u001b[0m\u001b[0;34m\u001b[0m\u001b[0;34m\u001b[0m\u001b[0m\n\u001b[0;32m--> 727\u001b[0;31m             \u001b[0mresult\u001b[0m \u001b[0;34m=\u001b[0m \u001b[0mself\u001b[0m\u001b[0;34m.\u001b[0m\u001b[0mforward\u001b[0m\u001b[0;34m(\u001b[0m\u001b[0;34m*\u001b[0m\u001b[0minput\u001b[0m\u001b[0;34m,\u001b[0m \u001b[0;34m**\u001b[0m\u001b[0mkwargs\u001b[0m\u001b[0;34m)\u001b[0m\u001b[0;34m\u001b[0m\u001b[0;34m\u001b[0m\u001b[0m\n\u001b[0m\u001b[1;32m    728\u001b[0m         for hook in itertools.chain(\n\u001b[1;32m    729\u001b[0m                 \u001b[0m_global_forward_hooks\u001b[0m\u001b[0;34m.\u001b[0m\u001b[0mvalues\u001b[0m\u001b[0;34m(\u001b[0m\u001b[0;34m)\u001b[0m\u001b[0;34m,\u001b[0m\u001b[0;34m\u001b[0m\u001b[0;34m\u001b[0m\u001b[0m\n",
      "\u001b[0;32m~/anaconda3/envs/python3/lib/python3.6/site-packages/transformers/modeling_bert.py\u001b[0m in \u001b[0;36mforward\u001b[0;34m(self, input_ids, attention_mask, token_type_ids, position_ids, head_mask, inputs_embeds, labels, output_attentions, output_hidden_states, return_dict)\u001b[0m\n\u001b[1;32m   1359\u001b[0m             \u001b[0moutput_attentions\u001b[0m\u001b[0;34m=\u001b[0m\u001b[0moutput_attentions\u001b[0m\u001b[0;34m,\u001b[0m\u001b[0;34m\u001b[0m\u001b[0;34m\u001b[0m\u001b[0m\n\u001b[1;32m   1360\u001b[0m             \u001b[0moutput_hidden_states\u001b[0m\u001b[0;34m=\u001b[0m\u001b[0moutput_hidden_states\u001b[0m\u001b[0;34m,\u001b[0m\u001b[0;34m\u001b[0m\u001b[0;34m\u001b[0m\u001b[0m\n\u001b[0;32m-> 1361\u001b[0;31m             \u001b[0mreturn_dict\u001b[0m\u001b[0;34m=\u001b[0m\u001b[0mreturn_dict\u001b[0m\u001b[0;34m,\u001b[0m\u001b[0;34m\u001b[0m\u001b[0;34m\u001b[0m\u001b[0m\n\u001b[0m\u001b[1;32m   1362\u001b[0m         )\n\u001b[1;32m   1363\u001b[0m \u001b[0;34m\u001b[0m\u001b[0m\n",
      "\u001b[0;32m~/anaconda3/envs/python3/lib/python3.6/site-packages/torch/nn/modules/module.py\u001b[0m in \u001b[0;36m_call_impl\u001b[0;34m(self, *input, **kwargs)\u001b[0m\n\u001b[1;32m    725\u001b[0m             \u001b[0mresult\u001b[0m \u001b[0;34m=\u001b[0m \u001b[0mself\u001b[0m\u001b[0;34m.\u001b[0m\u001b[0m_slow_forward\u001b[0m\u001b[0;34m(\u001b[0m\u001b[0;34m*\u001b[0m\u001b[0minput\u001b[0m\u001b[0;34m,\u001b[0m \u001b[0;34m**\u001b[0m\u001b[0mkwargs\u001b[0m\u001b[0;34m)\u001b[0m\u001b[0;34m\u001b[0m\u001b[0;34m\u001b[0m\u001b[0m\n\u001b[1;32m    726\u001b[0m         \u001b[0;32melse\u001b[0m\u001b[0;34m:\u001b[0m\u001b[0;34m\u001b[0m\u001b[0;34m\u001b[0m\u001b[0m\n\u001b[0;32m--> 727\u001b[0;31m             \u001b[0mresult\u001b[0m \u001b[0;34m=\u001b[0m \u001b[0mself\u001b[0m\u001b[0;34m.\u001b[0m\u001b[0mforward\u001b[0m\u001b[0;34m(\u001b[0m\u001b[0;34m*\u001b[0m\u001b[0minput\u001b[0m\u001b[0;34m,\u001b[0m \u001b[0;34m**\u001b[0m\u001b[0mkwargs\u001b[0m\u001b[0;34m)\u001b[0m\u001b[0;34m\u001b[0m\u001b[0;34m\u001b[0m\u001b[0m\n\u001b[0m\u001b[1;32m    728\u001b[0m         for hook in itertools.chain(\n\u001b[1;32m    729\u001b[0m                 \u001b[0m_global_forward_hooks\u001b[0m\u001b[0;34m.\u001b[0m\u001b[0mvalues\u001b[0m\u001b[0;34m(\u001b[0m\u001b[0;34m)\u001b[0m\u001b[0;34m,\u001b[0m\u001b[0;34m\u001b[0m\u001b[0;34m\u001b[0m\u001b[0m\n",
      "\u001b[0;32m~/anaconda3/envs/python3/lib/python3.6/site-packages/transformers/modeling_bert.py\u001b[0m in \u001b[0;36mforward\u001b[0;34m(self, input_ids, attention_mask, token_type_ids, position_ids, head_mask, inputs_embeds, encoder_hidden_states, encoder_attention_mask, output_attentions, output_hidden_states, return_dict)\u001b[0m\n\u001b[1;32m    836\u001b[0m \u001b[0;34m\u001b[0m\u001b[0m\n\u001b[1;32m    837\u001b[0m         embedding_output = self.embeddings(\n\u001b[0;32m--> 838\u001b[0;31m             \u001b[0minput_ids\u001b[0m\u001b[0;34m=\u001b[0m\u001b[0minput_ids\u001b[0m\u001b[0;34m,\u001b[0m \u001b[0mposition_ids\u001b[0m\u001b[0;34m=\u001b[0m\u001b[0mposition_ids\u001b[0m\u001b[0;34m,\u001b[0m \u001b[0mtoken_type_ids\u001b[0m\u001b[0;34m=\u001b[0m\u001b[0mtoken_type_ids\u001b[0m\u001b[0;34m,\u001b[0m \u001b[0minputs_embeds\u001b[0m\u001b[0;34m=\u001b[0m\u001b[0minputs_embeds\u001b[0m\u001b[0;34m\u001b[0m\u001b[0;34m\u001b[0m\u001b[0m\n\u001b[0m\u001b[1;32m    839\u001b[0m         )\n\u001b[1;32m    840\u001b[0m         encoder_outputs = self.encoder(\n",
      "\u001b[0;32m~/anaconda3/envs/python3/lib/python3.6/site-packages/torch/nn/modules/module.py\u001b[0m in \u001b[0;36m_call_impl\u001b[0;34m(self, *input, **kwargs)\u001b[0m\n\u001b[1;32m    725\u001b[0m             \u001b[0mresult\u001b[0m \u001b[0;34m=\u001b[0m \u001b[0mself\u001b[0m\u001b[0;34m.\u001b[0m\u001b[0m_slow_forward\u001b[0m\u001b[0;34m(\u001b[0m\u001b[0;34m*\u001b[0m\u001b[0minput\u001b[0m\u001b[0;34m,\u001b[0m \u001b[0;34m**\u001b[0m\u001b[0mkwargs\u001b[0m\u001b[0;34m)\u001b[0m\u001b[0;34m\u001b[0m\u001b[0;34m\u001b[0m\u001b[0m\n\u001b[1;32m    726\u001b[0m         \u001b[0;32melse\u001b[0m\u001b[0;34m:\u001b[0m\u001b[0;34m\u001b[0m\u001b[0;34m\u001b[0m\u001b[0m\n\u001b[0;32m--> 727\u001b[0;31m             \u001b[0mresult\u001b[0m \u001b[0;34m=\u001b[0m \u001b[0mself\u001b[0m\u001b[0;34m.\u001b[0m\u001b[0mforward\u001b[0m\u001b[0;34m(\u001b[0m\u001b[0;34m*\u001b[0m\u001b[0minput\u001b[0m\u001b[0;34m,\u001b[0m \u001b[0;34m**\u001b[0m\u001b[0mkwargs\u001b[0m\u001b[0;34m)\u001b[0m\u001b[0;34m\u001b[0m\u001b[0;34m\u001b[0m\u001b[0m\n\u001b[0m\u001b[1;32m    728\u001b[0m         for hook in itertools.chain(\n\u001b[1;32m    729\u001b[0m                 \u001b[0m_global_forward_hooks\u001b[0m\u001b[0;34m.\u001b[0m\u001b[0mvalues\u001b[0m\u001b[0;34m(\u001b[0m\u001b[0;34m)\u001b[0m\u001b[0;34m,\u001b[0m\u001b[0;34m\u001b[0m\u001b[0;34m\u001b[0m\u001b[0m\n",
      "\u001b[0;32m~/anaconda3/envs/python3/lib/python3.6/site-packages/transformers/modeling_bert.py\u001b[0m in \u001b[0;36mforward\u001b[0;34m(self, input_ids, token_type_ids, position_ids, inputs_embeds)\u001b[0m\n\u001b[1;32m    199\u001b[0m         \u001b[0mtoken_type_embeddings\u001b[0m \u001b[0;34m=\u001b[0m \u001b[0mself\u001b[0m\u001b[0;34m.\u001b[0m\u001b[0mtoken_type_embeddings\u001b[0m\u001b[0;34m(\u001b[0m\u001b[0mtoken_type_ids\u001b[0m\u001b[0;34m)\u001b[0m\u001b[0;34m\u001b[0m\u001b[0;34m\u001b[0m\u001b[0m\n\u001b[1;32m    200\u001b[0m \u001b[0;34m\u001b[0m\u001b[0m\n\u001b[0;32m--> 201\u001b[0;31m         \u001b[0membeddings\u001b[0m \u001b[0;34m=\u001b[0m \u001b[0minputs_embeds\u001b[0m \u001b[0;34m+\u001b[0m \u001b[0mposition_embeddings\u001b[0m \u001b[0;34m+\u001b[0m \u001b[0mtoken_type_embeddings\u001b[0m\u001b[0;34m\u001b[0m\u001b[0;34m\u001b[0m\u001b[0m\n\u001b[0m\u001b[1;32m    202\u001b[0m         \u001b[0membeddings\u001b[0m \u001b[0;34m=\u001b[0m \u001b[0mself\u001b[0m\u001b[0;34m.\u001b[0m\u001b[0mLayerNorm\u001b[0m\u001b[0;34m(\u001b[0m\u001b[0membeddings\u001b[0m\u001b[0;34m)\u001b[0m\u001b[0;34m\u001b[0m\u001b[0;34m\u001b[0m\u001b[0m\n\u001b[1;32m    203\u001b[0m         \u001b[0membeddings\u001b[0m \u001b[0;34m=\u001b[0m \u001b[0mself\u001b[0m\u001b[0;34m.\u001b[0m\u001b[0mdropout\u001b[0m\u001b[0;34m(\u001b[0m\u001b[0membeddings\u001b[0m\u001b[0;34m)\u001b[0m\u001b[0;34m\u001b[0m\u001b[0;34m\u001b[0m\u001b[0m\n",
      "\u001b[0;31mRuntimeError\u001b[0m: The size of tensor a (513) must match the size of tensor b (512) at non-singleton dimension 1"
     ]
    }
   ],
   "source": [
    "#!!!6.18最终尝试（上一个cell最后bug为只有5000条score和label）\n",
    "#如何做2D array：https://stackoverflow.com/questions/10712002/create-an-empty-list-in-python-with-certain-size\n",
    "def init_list_of_objects(size):\n",
    "    list_of_objects = list()\n",
    "    for i in range(0,size):\n",
    "        list_of_objects.append( list() ) #different object reference each time\n",
    "    return list_of_objects\n",
    "brands_content_total = init_list_of_objects(len(brands_total)) ##2D list, 长度为1000；储存所有品牌对应的所有文本（清理后）；每一个index为一个list，储存一个品牌的结果\n",
    "brands_result_total = init_list_of_objects(len(brands_total)) ##2D list, 长度为1000；储存所有品牌的感情打分结果；每一个index为一个list，储存一个品牌的结果\n",
    "\n",
    "for index,row in dfred.iterrows(): #扫描dfred每一行\n",
    "    for i in range(len(brands_total)): #考虑每一个品牌；每一个i为一个品牌\n",
    "        if brands_total[i] in str(row['brand']):  #将所有是此品牌的row摘出\n",
    "            brands_content_total[i].append(row['clean_cmt']) #将此品牌对应的品论文本摘出; 每一个i为一个品牌的list\n",
    "            \n",
    "for i in range(len(brands_total)): #考虑每一个品牌；每一个i为一个品牌\n",
    "    for notelist in brands_content_total: #每次查看一个品牌的list（所有文本）\n",
    "        ### ！！注意：roberta最多只可以处理512个字符\n",
    "        for note in notelist: #list下的每一条文本\n",
    "            if len(note) > 511:  #对于超过512个字符的评论，只得进行截取前512个字符\n",
    "                brands_result_total[i].append(text_classification(note[:511])) #对这一条文本打分，加入到品牌的打分list\n",
    "            else:\n",
    "                brands_result_total[i].append(text_classification(note))"
   ]
  },
  {
   "cell_type": "code",
   "execution_count": 52,
   "id": "c313dbcb",
   "metadata": {},
   "outputs": [
    {
     "data": {
      "text/plain": [
       "1000"
      ]
     },
     "execution_count": 52,
     "metadata": {},
     "output_type": "execute_result"
    }
   ],
   "source": [
    "len(brands_content_total)"
   ]
  },
  {
   "cell_type": "code",
   "execution_count": 53,
   "id": "cb3aed19",
   "metadata": {},
   "outputs": [
    {
     "data": {
      "text/plain": [
       "1000"
      ]
     },
     "execution_count": 53,
     "metadata": {},
     "output_type": "execute_result"
    }
   ],
   "source": [
    "len(brands_result_total)"
   ]
  },
  {
   "cell_type": "code",
   "execution_count": null,
   "id": "e542be21",
   "metadata": {},
   "outputs": [],
   "source": [
    "mydf=pd.DataFrame(columns={'brand','text','label','probability'})"
   ]
  },
  {
   "cell_type": "code",
   "execution_count": null,
   "id": "d391eb8a",
   "metadata": {},
   "outputs": [],
   "source": [
    "mydf['brand']= np.array(dfred['brand']) "
   ]
  },
  {
   "cell_type": "code",
   "execution_count": null,
   "id": "4331eb26",
   "metadata": {},
   "outputs": [],
   "source": [
    "mydf['text']=np.array(processed_content)"
   ]
  },
  {
   "cell_type": "code",
   "execution_count": null,
   "id": "71f7b658",
   "metadata": {},
   "outputs": [],
   "source": [
    "#label=init_list_of_objects(len(brands_total)) #2D list\n",
    "#score=init_list_of_objects(len(brands_total)) #2D list\n",
    "label=[]\n",
    "score=[]\n",
    "for brand in brands_result_total: #每一个brand的包含所有评论打分的list（每一个评论打分的格式为：[{\"label\":..., \"score:...\"}]\n",
    "    for result in brand: #每一次loop看此brand下的某一条文本的打分 dictionary：{\"label\":..., \"score:...\"}\n",
    "        #print(brand[i][0][\"label\"])\n",
    "        label.append(result[0][\"label\"])\n",
    "        score.append(result[0][\"score\"])\n",
    "#mydf['label']=label\n",
    "#mydf['probability']=score"
   ]
  },
  {
   "cell_type": "code",
   "execution_count": null,
   "id": "d1722134",
   "metadata": {},
   "outputs": [],
   "source": [
    "len(label)"
   ]
  },
  {
   "cell_type": "code",
   "execution_count": null,
   "id": "b847c30b",
   "metadata": {},
   "outputs": [],
   "source": [
    "mydf['label']=label\n",
    "mydf['probability']=score"
   ]
  },
  {
   "cell_type": "code",
   "execution_count": null,
   "id": "1702387d",
   "metadata": {},
   "outputs": [],
   "source": [
    "#整理列的呈现顺序\n",
    "mydf = mydf[['brand','text', 'label','probability']]\n",
    "mydf"
   ]
  },
  {
   "cell_type": "code",
   "execution_count": null,
   "id": "343cff7b",
   "metadata": {},
   "outputs": [],
   "source": [
    "mydf.to_excel(\"小红书品牌1000情绪统计roberta-base-finetuned-jd-full-chinese.xlsx\")"
   ]
  },
  {
   "cell_type": "markdown",
   "id": "30366229",
   "metadata": {},
   "source": [
    "--------"
   ]
  },
  {
   "cell_type": "markdown",
   "id": "f0809eca",
   "metadata": {},
   "source": [
    "## 出给BOLT的表格 "
   ]
  },
  {
   "cell_type": "code",
   "execution_count": null,
   "id": "99fe44df",
   "metadata": {},
   "outputs": [],
   "source": []
  },
  {
   "cell_type": "markdown",
   "id": "2903ef18",
   "metadata": {},
   "source": [
    "--------"
   ]
  },
  {
   "cell_type": "markdown",
   "id": "ba6b78b6",
   "metadata": {},
   "source": [
    "## 雷达图可视化"
   ]
  },
  {
   "cell_type": "code",
   "execution_count": 59,
   "id": "c6f44fe5",
   "metadata": {},
   "outputs": [],
   "source": [
    "import plotly.express as px\n",
    "import pandas as pd"
   ]
  },
  {
   "cell_type": "code",
   "execution_count": 60,
   "id": "d9218c1f",
   "metadata": {},
   "outputs": [],
   "source": [
    "\n",
    "star1 = []\n",
    "star2 = []\n",
    "star3 = []\n",
    "star4 = []\n",
    "star5 = []\n",
    "\n",
    "for index,row in mydf.iterrows():\n",
    "    if 'star 1' in str(row['label']):\n",
    "        star1.append(row['text'])\n",
    "    elif 'star 2' in str(row['label']):\n",
    "        star2.append(row['text'])\n",
    "    elif 'star 3' in str(row['label']):\n",
    "        star3.append(row['text'])\n",
    "    elif 'star 4' in str(row['label']):\n",
    "        star4.append(row['text'])\n",
    "    elif 'star 5' in str(row['label']):\n",
    "        star5.append(row['text'])\n",
    "\n",
    "r_star1 = len(star1)\n",
    "r_star2 = len(star2)\n",
    "r_star3 = len(star3)\n",
    "r_star4 = len(star4)\n",
    "r_star5 = len(star5)"
   ]
  },
  {
   "cell_type": "code",
   "execution_count": 64,
   "id": "3b294644",
   "metadata": {},
   "outputs": [
    {
     "data": {
      "application/vnd.plotly.v1+json": {
       "config": {
        "plotlyServerURL": "https://plot.ly"
       },
       "data": [
        {
         "hovertemplate": "r=%{r}<br>theta=%{theta}<extra></extra>",
         "legendgroup": "",
         "line": {
          "color": "#636efa",
          "dash": "solid"
         },
         "mode": "lines",
         "name": "",
         "r": [
          15,
          8,
          15,
          178,
          784,
          15
         ],
         "showlegend": false,
         "subplot": "polar",
         "theta": [
          "star 1",
          "star 2",
          "star 3",
          "star 4",
          "star 5",
          "star 1"
         ],
         "type": "scatterpolar"
        }
       ],
       "layout": {
        "legend": {
         "tracegroupgap": 0
        },
        "margin": {
         "t": 60
        },
        "polar": {
         "angularaxis": {
          "direction": "clockwise",
          "rotation": 90
         },
         "domain": {
          "x": [
           0,
           1
          ],
          "y": [
           0,
           1
          ]
         }
        },
        "template": {
         "data": {
          "bar": [
           {
            "error_x": {
             "color": "#2a3f5f"
            },
            "error_y": {
             "color": "#2a3f5f"
            },
            "marker": {
             "line": {
              "color": "#E5ECF6",
              "width": 0.5
             }
            },
            "type": "bar"
           }
          ],
          "barpolar": [
           {
            "marker": {
             "line": {
              "color": "#E5ECF6",
              "width": 0.5
             }
            },
            "type": "barpolar"
           }
          ],
          "carpet": [
           {
            "aaxis": {
             "endlinecolor": "#2a3f5f",
             "gridcolor": "white",
             "linecolor": "white",
             "minorgridcolor": "white",
             "startlinecolor": "#2a3f5f"
            },
            "baxis": {
             "endlinecolor": "#2a3f5f",
             "gridcolor": "white",
             "linecolor": "white",
             "minorgridcolor": "white",
             "startlinecolor": "#2a3f5f"
            },
            "type": "carpet"
           }
          ],
          "choropleth": [
           {
            "colorbar": {
             "outlinewidth": 0,
             "ticks": ""
            },
            "type": "choropleth"
           }
          ],
          "contour": [
           {
            "colorbar": {
             "outlinewidth": 0,
             "ticks": ""
            },
            "colorscale": [
             [
              0,
              "#0d0887"
             ],
             [
              0.1111111111111111,
              "#46039f"
             ],
             [
              0.2222222222222222,
              "#7201a8"
             ],
             [
              0.3333333333333333,
              "#9c179e"
             ],
             [
              0.4444444444444444,
              "#bd3786"
             ],
             [
              0.5555555555555556,
              "#d8576b"
             ],
             [
              0.6666666666666666,
              "#ed7953"
             ],
             [
              0.7777777777777778,
              "#fb9f3a"
             ],
             [
              0.8888888888888888,
              "#fdca26"
             ],
             [
              1,
              "#f0f921"
             ]
            ],
            "type": "contour"
           }
          ],
          "contourcarpet": [
           {
            "colorbar": {
             "outlinewidth": 0,
             "ticks": ""
            },
            "type": "contourcarpet"
           }
          ],
          "heatmap": [
           {
            "colorbar": {
             "outlinewidth": 0,
             "ticks": ""
            },
            "colorscale": [
             [
              0,
              "#0d0887"
             ],
             [
              0.1111111111111111,
              "#46039f"
             ],
             [
              0.2222222222222222,
              "#7201a8"
             ],
             [
              0.3333333333333333,
              "#9c179e"
             ],
             [
              0.4444444444444444,
              "#bd3786"
             ],
             [
              0.5555555555555556,
              "#d8576b"
             ],
             [
              0.6666666666666666,
              "#ed7953"
             ],
             [
              0.7777777777777778,
              "#fb9f3a"
             ],
             [
              0.8888888888888888,
              "#fdca26"
             ],
             [
              1,
              "#f0f921"
             ]
            ],
            "type": "heatmap"
           }
          ],
          "heatmapgl": [
           {
            "colorbar": {
             "outlinewidth": 0,
             "ticks": ""
            },
            "colorscale": [
             [
              0,
              "#0d0887"
             ],
             [
              0.1111111111111111,
              "#46039f"
             ],
             [
              0.2222222222222222,
              "#7201a8"
             ],
             [
              0.3333333333333333,
              "#9c179e"
             ],
             [
              0.4444444444444444,
              "#bd3786"
             ],
             [
              0.5555555555555556,
              "#d8576b"
             ],
             [
              0.6666666666666666,
              "#ed7953"
             ],
             [
              0.7777777777777778,
              "#fb9f3a"
             ],
             [
              0.8888888888888888,
              "#fdca26"
             ],
             [
              1,
              "#f0f921"
             ]
            ],
            "type": "heatmapgl"
           }
          ],
          "histogram": [
           {
            "marker": {
             "colorbar": {
              "outlinewidth": 0,
              "ticks": ""
             }
            },
            "type": "histogram"
           }
          ],
          "histogram2d": [
           {
            "colorbar": {
             "outlinewidth": 0,
             "ticks": ""
            },
            "colorscale": [
             [
              0,
              "#0d0887"
             ],
             [
              0.1111111111111111,
              "#46039f"
             ],
             [
              0.2222222222222222,
              "#7201a8"
             ],
             [
              0.3333333333333333,
              "#9c179e"
             ],
             [
              0.4444444444444444,
              "#bd3786"
             ],
             [
              0.5555555555555556,
              "#d8576b"
             ],
             [
              0.6666666666666666,
              "#ed7953"
             ],
             [
              0.7777777777777778,
              "#fb9f3a"
             ],
             [
              0.8888888888888888,
              "#fdca26"
             ],
             [
              1,
              "#f0f921"
             ]
            ],
            "type": "histogram2d"
           }
          ],
          "histogram2dcontour": [
           {
            "colorbar": {
             "outlinewidth": 0,
             "ticks": ""
            },
            "colorscale": [
             [
              0,
              "#0d0887"
             ],
             [
              0.1111111111111111,
              "#46039f"
             ],
             [
              0.2222222222222222,
              "#7201a8"
             ],
             [
              0.3333333333333333,
              "#9c179e"
             ],
             [
              0.4444444444444444,
              "#bd3786"
             ],
             [
              0.5555555555555556,
              "#d8576b"
             ],
             [
              0.6666666666666666,
              "#ed7953"
             ],
             [
              0.7777777777777778,
              "#fb9f3a"
             ],
             [
              0.8888888888888888,
              "#fdca26"
             ],
             [
              1,
              "#f0f921"
             ]
            ],
            "type": "histogram2dcontour"
           }
          ],
          "mesh3d": [
           {
            "colorbar": {
             "outlinewidth": 0,
             "ticks": ""
            },
            "type": "mesh3d"
           }
          ],
          "parcoords": [
           {
            "line": {
             "colorbar": {
              "outlinewidth": 0,
              "ticks": ""
             }
            },
            "type": "parcoords"
           }
          ],
          "pie": [
           {
            "automargin": true,
            "type": "pie"
           }
          ],
          "scatter": [
           {
            "marker": {
             "colorbar": {
              "outlinewidth": 0,
              "ticks": ""
             }
            },
            "type": "scatter"
           }
          ],
          "scatter3d": [
           {
            "line": {
             "colorbar": {
              "outlinewidth": 0,
              "ticks": ""
             }
            },
            "marker": {
             "colorbar": {
              "outlinewidth": 0,
              "ticks": ""
             }
            },
            "type": "scatter3d"
           }
          ],
          "scattercarpet": [
           {
            "marker": {
             "colorbar": {
              "outlinewidth": 0,
              "ticks": ""
             }
            },
            "type": "scattercarpet"
           }
          ],
          "scattergeo": [
           {
            "marker": {
             "colorbar": {
              "outlinewidth": 0,
              "ticks": ""
             }
            },
            "type": "scattergeo"
           }
          ],
          "scattergl": [
           {
            "marker": {
             "colorbar": {
              "outlinewidth": 0,
              "ticks": ""
             }
            },
            "type": "scattergl"
           }
          ],
          "scattermapbox": [
           {
            "marker": {
             "colorbar": {
              "outlinewidth": 0,
              "ticks": ""
             }
            },
            "type": "scattermapbox"
           }
          ],
          "scatterpolar": [
           {
            "marker": {
             "colorbar": {
              "outlinewidth": 0,
              "ticks": ""
             }
            },
            "type": "scatterpolar"
           }
          ],
          "scatterpolargl": [
           {
            "marker": {
             "colorbar": {
              "outlinewidth": 0,
              "ticks": ""
             }
            },
            "type": "scatterpolargl"
           }
          ],
          "scatterternary": [
           {
            "marker": {
             "colorbar": {
              "outlinewidth": 0,
              "ticks": ""
             }
            },
            "type": "scatterternary"
           }
          ],
          "surface": [
           {
            "colorbar": {
             "outlinewidth": 0,
             "ticks": ""
            },
            "colorscale": [
             [
              0,
              "#0d0887"
             ],
             [
              0.1111111111111111,
              "#46039f"
             ],
             [
              0.2222222222222222,
              "#7201a8"
             ],
             [
              0.3333333333333333,
              "#9c179e"
             ],
             [
              0.4444444444444444,
              "#bd3786"
             ],
             [
              0.5555555555555556,
              "#d8576b"
             ],
             [
              0.6666666666666666,
              "#ed7953"
             ],
             [
              0.7777777777777778,
              "#fb9f3a"
             ],
             [
              0.8888888888888888,
              "#fdca26"
             ],
             [
              1,
              "#f0f921"
             ]
            ],
            "type": "surface"
           }
          ],
          "table": [
           {
            "cells": {
             "fill": {
              "color": "#EBF0F8"
             },
             "line": {
              "color": "white"
             }
            },
            "header": {
             "fill": {
              "color": "#C8D4E3"
             },
             "line": {
              "color": "white"
             }
            },
            "type": "table"
           }
          ]
         },
         "layout": {
          "annotationdefaults": {
           "arrowcolor": "#2a3f5f",
           "arrowhead": 0,
           "arrowwidth": 1
          },
          "autotypenumbers": "strict",
          "coloraxis": {
           "colorbar": {
            "outlinewidth": 0,
            "ticks": ""
           }
          },
          "colorscale": {
           "diverging": [
            [
             0,
             "#8e0152"
            ],
            [
             0.1,
             "#c51b7d"
            ],
            [
             0.2,
             "#de77ae"
            ],
            [
             0.3,
             "#f1b6da"
            ],
            [
             0.4,
             "#fde0ef"
            ],
            [
             0.5,
             "#f7f7f7"
            ],
            [
             0.6,
             "#e6f5d0"
            ],
            [
             0.7,
             "#b8e186"
            ],
            [
             0.8,
             "#7fbc41"
            ],
            [
             0.9,
             "#4d9221"
            ],
            [
             1,
             "#276419"
            ]
           ],
           "sequential": [
            [
             0,
             "#0d0887"
            ],
            [
             0.1111111111111111,
             "#46039f"
            ],
            [
             0.2222222222222222,
             "#7201a8"
            ],
            [
             0.3333333333333333,
             "#9c179e"
            ],
            [
             0.4444444444444444,
             "#bd3786"
            ],
            [
             0.5555555555555556,
             "#d8576b"
            ],
            [
             0.6666666666666666,
             "#ed7953"
            ],
            [
             0.7777777777777778,
             "#fb9f3a"
            ],
            [
             0.8888888888888888,
             "#fdca26"
            ],
            [
             1,
             "#f0f921"
            ]
           ],
           "sequentialminus": [
            [
             0,
             "#0d0887"
            ],
            [
             0.1111111111111111,
             "#46039f"
            ],
            [
             0.2222222222222222,
             "#7201a8"
            ],
            [
             0.3333333333333333,
             "#9c179e"
            ],
            [
             0.4444444444444444,
             "#bd3786"
            ],
            [
             0.5555555555555556,
             "#d8576b"
            ],
            [
             0.6666666666666666,
             "#ed7953"
            ],
            [
             0.7777777777777778,
             "#fb9f3a"
            ],
            [
             0.8888888888888888,
             "#fdca26"
            ],
            [
             1,
             "#f0f921"
            ]
           ]
          },
          "colorway": [
           "#636efa",
           "#EF553B",
           "#00cc96",
           "#ab63fa",
           "#FFA15A",
           "#19d3f3",
           "#FF6692",
           "#B6E880",
           "#FF97FF",
           "#FECB52"
          ],
          "font": {
           "color": "#2a3f5f"
          },
          "geo": {
           "bgcolor": "white",
           "lakecolor": "white",
           "landcolor": "#E5ECF6",
           "showlakes": true,
           "showland": true,
           "subunitcolor": "white"
          },
          "hoverlabel": {
           "align": "left"
          },
          "hovermode": "closest",
          "mapbox": {
           "style": "light"
          },
          "paper_bgcolor": "white",
          "plot_bgcolor": "#E5ECF6",
          "polar": {
           "angularaxis": {
            "gridcolor": "white",
            "linecolor": "white",
            "ticks": ""
           },
           "bgcolor": "#E5ECF6",
           "radialaxis": {
            "gridcolor": "white",
            "linecolor": "white",
            "ticks": ""
           }
          },
          "scene": {
           "xaxis": {
            "backgroundcolor": "#E5ECF6",
            "gridcolor": "white",
            "gridwidth": 2,
            "linecolor": "white",
            "showbackground": true,
            "ticks": "",
            "zerolinecolor": "white"
           },
           "yaxis": {
            "backgroundcolor": "#E5ECF6",
            "gridcolor": "white",
            "gridwidth": 2,
            "linecolor": "white",
            "showbackground": true,
            "ticks": "",
            "zerolinecolor": "white"
           },
           "zaxis": {
            "backgroundcolor": "#E5ECF6",
            "gridcolor": "white",
            "gridwidth": 2,
            "linecolor": "white",
            "showbackground": true,
            "ticks": "",
            "zerolinecolor": "white"
           }
          },
          "shapedefaults": {
           "line": {
            "color": "#2a3f5f"
           }
          },
          "ternary": {
           "aaxis": {
            "gridcolor": "white",
            "linecolor": "white",
            "ticks": ""
           },
           "baxis": {
            "gridcolor": "white",
            "linecolor": "white",
            "ticks": ""
           },
           "bgcolor": "#E5ECF6",
           "caxis": {
            "gridcolor": "white",
            "linecolor": "white",
            "ticks": ""
           }
          },
          "title": {
           "x": 0.05
          },
          "xaxis": {
           "automargin": true,
           "gridcolor": "white",
           "linecolor": "white",
           "ticks": "",
           "title": {
            "standoff": 15
           },
           "zerolinecolor": "white",
           "zerolinewidth": 2
          },
          "yaxis": {
           "automargin": true,
           "gridcolor": "white",
           "linecolor": "white",
           "ticks": "",
           "title": {
            "standoff": 15
           },
           "zerolinecolor": "white",
           "zerolinewidth": 2
          }
         }
        }
       }
      },
      "text/html": [
       "<div>                            <div id=\"fb53b7e1-b90e-49f5-8a35-04537edcc1e7\" class=\"plotly-graph-div\" style=\"height:525px; width:100%;\"></div>            <script type=\"text/javascript\">                require([\"plotly\"], function(Plotly) {                    window.PLOTLYENV=window.PLOTLYENV || {};                                    if (document.getElementById(\"fb53b7e1-b90e-49f5-8a35-04537edcc1e7\")) {                    Plotly.newPlot(                        \"fb53b7e1-b90e-49f5-8a35-04537edcc1e7\",                        [{\"hovertemplate\": \"r=%{r}<br>theta=%{theta}<extra></extra>\", \"legendgroup\": \"\", \"line\": {\"color\": \"#636efa\", \"dash\": \"solid\"}, \"mode\": \"lines\", \"name\": \"\", \"r\": [15, 8, 15, 178, 784, 15], \"showlegend\": false, \"subplot\": \"polar\", \"theta\": [\"star 1\", \"star 2\", \"star 3\", \"star 4\", \"star 5\", \"star 1\"], \"type\": \"scatterpolar\"}],                        {\"legend\": {\"tracegroupgap\": 0}, \"margin\": {\"t\": 60}, \"polar\": {\"angularaxis\": {\"direction\": \"clockwise\", \"rotation\": 90}, \"domain\": {\"x\": [0.0, 1.0], \"y\": [0.0, 1.0]}}, \"template\": {\"data\": {\"bar\": [{\"error_x\": {\"color\": \"#2a3f5f\"}, \"error_y\": {\"color\": \"#2a3f5f\"}, \"marker\": {\"line\": {\"color\": \"#E5ECF6\", \"width\": 0.5}}, \"type\": \"bar\"}], \"barpolar\": [{\"marker\": {\"line\": {\"color\": \"#E5ECF6\", \"width\": 0.5}}, \"type\": \"barpolar\"}], \"carpet\": [{\"aaxis\": {\"endlinecolor\": \"#2a3f5f\", \"gridcolor\": \"white\", \"linecolor\": \"white\", \"minorgridcolor\": \"white\", \"startlinecolor\": \"#2a3f5f\"}, \"baxis\": {\"endlinecolor\": \"#2a3f5f\", \"gridcolor\": \"white\", \"linecolor\": \"white\", \"minorgridcolor\": \"white\", \"startlinecolor\": \"#2a3f5f\"}, \"type\": \"carpet\"}], \"choropleth\": [{\"colorbar\": {\"outlinewidth\": 0, \"ticks\": \"\"}, \"type\": \"choropleth\"}], \"contour\": [{\"colorbar\": {\"outlinewidth\": 0, \"ticks\": \"\"}, \"colorscale\": [[0.0, \"#0d0887\"], [0.1111111111111111, \"#46039f\"], [0.2222222222222222, \"#7201a8\"], [0.3333333333333333, \"#9c179e\"], [0.4444444444444444, \"#bd3786\"], [0.5555555555555556, \"#d8576b\"], [0.6666666666666666, \"#ed7953\"], [0.7777777777777778, \"#fb9f3a\"], [0.8888888888888888, \"#fdca26\"], [1.0, \"#f0f921\"]], \"type\": \"contour\"}], \"contourcarpet\": [{\"colorbar\": {\"outlinewidth\": 0, \"ticks\": \"\"}, \"type\": \"contourcarpet\"}], \"heatmap\": [{\"colorbar\": {\"outlinewidth\": 0, \"ticks\": \"\"}, \"colorscale\": [[0.0, \"#0d0887\"], [0.1111111111111111, \"#46039f\"], [0.2222222222222222, \"#7201a8\"], [0.3333333333333333, \"#9c179e\"], [0.4444444444444444, \"#bd3786\"], [0.5555555555555556, \"#d8576b\"], [0.6666666666666666, \"#ed7953\"], [0.7777777777777778, \"#fb9f3a\"], [0.8888888888888888, \"#fdca26\"], [1.0, \"#f0f921\"]], \"type\": \"heatmap\"}], \"heatmapgl\": [{\"colorbar\": {\"outlinewidth\": 0, \"ticks\": \"\"}, \"colorscale\": [[0.0, \"#0d0887\"], [0.1111111111111111, \"#46039f\"], [0.2222222222222222, \"#7201a8\"], [0.3333333333333333, \"#9c179e\"], [0.4444444444444444, \"#bd3786\"], [0.5555555555555556, \"#d8576b\"], [0.6666666666666666, \"#ed7953\"], [0.7777777777777778, \"#fb9f3a\"], [0.8888888888888888, \"#fdca26\"], [1.0, \"#f0f921\"]], \"type\": \"heatmapgl\"}], \"histogram\": [{\"marker\": {\"colorbar\": {\"outlinewidth\": 0, \"ticks\": \"\"}}, \"type\": \"histogram\"}], \"histogram2d\": [{\"colorbar\": {\"outlinewidth\": 0, \"ticks\": \"\"}, \"colorscale\": [[0.0, \"#0d0887\"], [0.1111111111111111, \"#46039f\"], [0.2222222222222222, \"#7201a8\"], [0.3333333333333333, \"#9c179e\"], [0.4444444444444444, \"#bd3786\"], [0.5555555555555556, \"#d8576b\"], [0.6666666666666666, \"#ed7953\"], [0.7777777777777778, \"#fb9f3a\"], [0.8888888888888888, \"#fdca26\"], [1.0, \"#f0f921\"]], \"type\": \"histogram2d\"}], \"histogram2dcontour\": [{\"colorbar\": {\"outlinewidth\": 0, \"ticks\": \"\"}, \"colorscale\": [[0.0, \"#0d0887\"], [0.1111111111111111, \"#46039f\"], [0.2222222222222222, \"#7201a8\"], [0.3333333333333333, \"#9c179e\"], [0.4444444444444444, \"#bd3786\"], [0.5555555555555556, \"#d8576b\"], [0.6666666666666666, \"#ed7953\"], [0.7777777777777778, \"#fb9f3a\"], [0.8888888888888888, \"#fdca26\"], [1.0, \"#f0f921\"]], \"type\": \"histogram2dcontour\"}], \"mesh3d\": [{\"colorbar\": {\"outlinewidth\": 0, \"ticks\": \"\"}, \"type\": \"mesh3d\"}], \"parcoords\": [{\"line\": {\"colorbar\": {\"outlinewidth\": 0, \"ticks\": \"\"}}, \"type\": \"parcoords\"}], \"pie\": [{\"automargin\": true, \"type\": \"pie\"}], \"scatter\": [{\"marker\": {\"colorbar\": {\"outlinewidth\": 0, \"ticks\": \"\"}}, \"type\": \"scatter\"}], \"scatter3d\": [{\"line\": {\"colorbar\": {\"outlinewidth\": 0, \"ticks\": \"\"}}, \"marker\": {\"colorbar\": {\"outlinewidth\": 0, \"ticks\": \"\"}}, \"type\": \"scatter3d\"}], \"scattercarpet\": [{\"marker\": {\"colorbar\": {\"outlinewidth\": 0, \"ticks\": \"\"}}, \"type\": \"scattercarpet\"}], \"scattergeo\": [{\"marker\": {\"colorbar\": {\"outlinewidth\": 0, \"ticks\": \"\"}}, \"type\": \"scattergeo\"}], \"scattergl\": [{\"marker\": {\"colorbar\": {\"outlinewidth\": 0, \"ticks\": \"\"}}, \"type\": \"scattergl\"}], \"scattermapbox\": [{\"marker\": {\"colorbar\": {\"outlinewidth\": 0, \"ticks\": \"\"}}, \"type\": \"scattermapbox\"}], \"scatterpolar\": [{\"marker\": {\"colorbar\": {\"outlinewidth\": 0, \"ticks\": \"\"}}, \"type\": \"scatterpolar\"}], \"scatterpolargl\": [{\"marker\": {\"colorbar\": {\"outlinewidth\": 0, \"ticks\": \"\"}}, \"type\": \"scatterpolargl\"}], \"scatterternary\": [{\"marker\": {\"colorbar\": {\"outlinewidth\": 0, \"ticks\": \"\"}}, \"type\": \"scatterternary\"}], \"surface\": [{\"colorbar\": {\"outlinewidth\": 0, \"ticks\": \"\"}, \"colorscale\": [[0.0, \"#0d0887\"], [0.1111111111111111, \"#46039f\"], [0.2222222222222222, \"#7201a8\"], [0.3333333333333333, \"#9c179e\"], [0.4444444444444444, \"#bd3786\"], [0.5555555555555556, \"#d8576b\"], [0.6666666666666666, \"#ed7953\"], [0.7777777777777778, \"#fb9f3a\"], [0.8888888888888888, \"#fdca26\"], [1.0, \"#f0f921\"]], \"type\": \"surface\"}], \"table\": [{\"cells\": {\"fill\": {\"color\": \"#EBF0F8\"}, \"line\": {\"color\": \"white\"}}, \"header\": {\"fill\": {\"color\": \"#C8D4E3\"}, \"line\": {\"color\": \"white\"}}, \"type\": \"table\"}]}, \"layout\": {\"annotationdefaults\": {\"arrowcolor\": \"#2a3f5f\", \"arrowhead\": 0, \"arrowwidth\": 1}, \"autotypenumbers\": \"strict\", \"coloraxis\": {\"colorbar\": {\"outlinewidth\": 0, \"ticks\": \"\"}}, \"colorscale\": {\"diverging\": [[0, \"#8e0152\"], [0.1, \"#c51b7d\"], [0.2, \"#de77ae\"], [0.3, \"#f1b6da\"], [0.4, \"#fde0ef\"], [0.5, \"#f7f7f7\"], [0.6, \"#e6f5d0\"], [0.7, \"#b8e186\"], [0.8, \"#7fbc41\"], [0.9, \"#4d9221\"], [1, \"#276419\"]], \"sequential\": [[0.0, \"#0d0887\"], [0.1111111111111111, \"#46039f\"], [0.2222222222222222, \"#7201a8\"], [0.3333333333333333, \"#9c179e\"], [0.4444444444444444, \"#bd3786\"], [0.5555555555555556, \"#d8576b\"], [0.6666666666666666, \"#ed7953\"], [0.7777777777777778, \"#fb9f3a\"], [0.8888888888888888, \"#fdca26\"], [1.0, \"#f0f921\"]], \"sequentialminus\": [[0.0, \"#0d0887\"], [0.1111111111111111, \"#46039f\"], [0.2222222222222222, \"#7201a8\"], [0.3333333333333333, \"#9c179e\"], [0.4444444444444444, \"#bd3786\"], [0.5555555555555556, \"#d8576b\"], [0.6666666666666666, \"#ed7953\"], [0.7777777777777778, \"#fb9f3a\"], [0.8888888888888888, \"#fdca26\"], [1.0, \"#f0f921\"]]}, \"colorway\": [\"#636efa\", \"#EF553B\", \"#00cc96\", \"#ab63fa\", \"#FFA15A\", \"#19d3f3\", \"#FF6692\", \"#B6E880\", \"#FF97FF\", \"#FECB52\"], \"font\": {\"color\": \"#2a3f5f\"}, \"geo\": {\"bgcolor\": \"white\", \"lakecolor\": \"white\", \"landcolor\": \"#E5ECF6\", \"showlakes\": true, \"showland\": true, \"subunitcolor\": \"white\"}, \"hoverlabel\": {\"align\": \"left\"}, \"hovermode\": \"closest\", \"mapbox\": {\"style\": \"light\"}, \"paper_bgcolor\": \"white\", \"plot_bgcolor\": \"#E5ECF6\", \"polar\": {\"angularaxis\": {\"gridcolor\": \"white\", \"linecolor\": \"white\", \"ticks\": \"\"}, \"bgcolor\": \"#E5ECF6\", \"radialaxis\": {\"gridcolor\": \"white\", \"linecolor\": \"white\", \"ticks\": \"\"}}, \"scene\": {\"xaxis\": {\"backgroundcolor\": \"#E5ECF6\", \"gridcolor\": \"white\", \"gridwidth\": 2, \"linecolor\": \"white\", \"showbackground\": true, \"ticks\": \"\", \"zerolinecolor\": \"white\"}, \"yaxis\": {\"backgroundcolor\": \"#E5ECF6\", \"gridcolor\": \"white\", \"gridwidth\": 2, \"linecolor\": \"white\", \"showbackground\": true, \"ticks\": \"\", \"zerolinecolor\": \"white\"}, \"zaxis\": {\"backgroundcolor\": \"#E5ECF6\", \"gridcolor\": \"white\", \"gridwidth\": 2, \"linecolor\": \"white\", \"showbackground\": true, \"ticks\": \"\", \"zerolinecolor\": \"white\"}}, \"shapedefaults\": {\"line\": {\"color\": \"#2a3f5f\"}}, \"ternary\": {\"aaxis\": {\"gridcolor\": \"white\", \"linecolor\": \"white\", \"ticks\": \"\"}, \"baxis\": {\"gridcolor\": \"white\", \"linecolor\": \"white\", \"ticks\": \"\"}, \"bgcolor\": \"#E5ECF6\", \"caxis\": {\"gridcolor\": \"white\", \"linecolor\": \"white\", \"ticks\": \"\"}}, \"title\": {\"x\": 0.05}, \"xaxis\": {\"automargin\": true, \"gridcolor\": \"white\", \"linecolor\": \"white\", \"ticks\": \"\", \"title\": {\"standoff\": 15}, \"zerolinecolor\": \"white\", \"zerolinewidth\": 2}, \"yaxis\": {\"automargin\": true, \"gridcolor\": \"white\", \"linecolor\": \"white\", \"ticks\": \"\", \"title\": {\"standoff\": 15}, \"zerolinecolor\": \"white\", \"zerolinewidth\": 2}}}},                        {\"responsive\": true}                    ).then(function(){\n",
       "                            \n",
       "var gd = document.getElementById('fb53b7e1-b90e-49f5-8a35-04537edcc1e7');\n",
       "var x = new MutationObserver(function (mutations, observer) {{\n",
       "        var display = window.getComputedStyle(gd).display;\n",
       "        if (!display || display === 'none') {{\n",
       "            console.log([gd, 'removed!']);\n",
       "            Plotly.purge(gd);\n",
       "            observer.disconnect();\n",
       "        }}\n",
       "}});\n",
       "\n",
       "// Listen for the removal of the full notebook cells\n",
       "var notebookContainer = gd.closest('#notebook-container');\n",
       "if (notebookContainer) {{\n",
       "    x.observe(notebookContainer, {childList: true});\n",
       "}}\n",
       "\n",
       "// Listen for the clearing of the current output cell\n",
       "var outputEl = gd.closest('.output');\n",
       "if (outputEl) {{\n",
       "    x.observe(outputEl, {childList: true});\n",
       "}}\n",
       "\n",
       "                        })                };                });            </script>        </div>"
      ]
     },
     "metadata": {},
     "output_type": "display_data"
    }
   ],
   "source": [
    "\n",
    "df = pd.DataFrame(dict(\n",
    "    r=[r_star1, r_star2, r_star3, r_star4, r_star5], # r为此品牌下1-5星级各有多少条评论；最高的r值决定此雷达图有多少环\n",
    "    theta=['star 1','star 2','star 3',\n",
    "           'star 4', 'star 5'])) #theta为1-5的星级\n",
    "fig = px.line_polar(df, r='r', theta='theta', line_close=True)\n",
    "fig.show()\n"
   ]
  },
  {
   "cell_type": "code",
   "execution_count": 65,
   "id": "90a30c33",
   "metadata": {},
   "outputs": [],
   "source": [
    "fig.write_html(\"小红书品牌1雷达图.html\")"
   ]
  },
  {
   "cell_type": "markdown",
   "id": "20403abc",
   "metadata": {},
   "source": [
    "----"
   ]
  },
  {
   "cell_type": "code",
   "execution_count": null,
   "id": "cc9c2e35",
   "metadata": {},
   "outputs": [],
   "source": []
  },
  {
   "cell_type": "code",
   "execution_count": null,
   "id": "342caf5b",
   "metadata": {},
   "outputs": [],
   "source": []
  }
 ],
 "metadata": {
  "kernelspec": {
   "display_name": "conda_python3",
   "language": "python",
   "name": "conda_python3"
  },
  "language_info": {
   "codemirror_mode": {
    "name": "ipython",
    "version": 3
   },
   "file_extension": ".py",
   "mimetype": "text/x-python",
   "name": "python",
   "nbconvert_exporter": "python",
   "pygments_lexer": "ipython3",
   "version": "3.6.13"
  }
 },
 "nbformat": 4,
 "nbformat_minor": 5
}
