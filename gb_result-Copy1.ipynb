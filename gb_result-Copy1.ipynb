{
 "cells": [
  {
   "cell_type": "code",
   "execution_count": 1,
   "id": "cd60752f",
   "metadata": {},
   "outputs": [],
   "source": [
    "import pandas as pd"
   ]
  },
  {
   "cell_type": "code",
   "execution_count": 2,
   "id": "94dd6ad3",
   "metadata": {},
   "outputs": [],
   "source": [
    "dfresult = pd.read_excel('sample_posts_20220324_1.xlsx', '601607_from_guba', engine='openpyxl')\n",
    "\n"
   ]
  },
  {
   "cell_type": "code",
   "execution_count": 23,
   "id": "59e86e4d",
   "metadata": {},
   "outputs": [],
   "source": [
    "df = pd.read_excel('gb_roberta_dianp_ratings.xlsx', engine = 'openpyxl')\n"
   ]
  },
  {
   "cell_type": "code",
   "execution_count": 24,
   "id": "83a99bab",
   "metadata": {},
   "outputs": [],
   "source": [
    "def convert(list):\n",
    "      \n",
    "    # Converting integer list to string list\n",
    "    s = [str(i) for i in list]\n",
    "      \n",
    "    # Join list items using join()\n",
    "    res = int(\"\".join(s))\n",
    "      \n",
    "    return(res)"
   ]
  },
  {
   "cell_type": "code",
   "execution_count": 25,
   "id": "e7437e15",
   "metadata": {},
   "outputs": [
    {
     "data": {
      "text/html": [
       "<div>\n",
       "<style scoped>\n",
       "    .dataframe tbody tr th:only-of-type {\n",
       "        vertical-align: middle;\n",
       "    }\n",
       "\n",
       "    .dataframe tbody tr th {\n",
       "        vertical-align: top;\n",
       "    }\n",
       "\n",
       "    .dataframe thead th {\n",
       "        text-align: right;\n",
       "    }\n",
       "</style>\n",
       "<table border=\"1\" class=\"dataframe\">\n",
       "  <thead>\n",
       "    <tr style=\"text-align: right;\">\n",
       "      <th></th>\n",
       "      <th>Unnamed: 0</th>\n",
       "      <th>ticker</th>\n",
       "      <th>ticker_name</th>\n",
       "      <th>url</th>\n",
       "      <th>post_id</th>\n",
       "      <th>post_title</th>\n",
       "      <th>post_abstract</th>\n",
       "      <th>post_content</th>\n",
       "      <th>clean_cmt</th>\n",
       "      <th>ratings</th>\n",
       "    </tr>\n",
       "  </thead>\n",
       "  <tbody>\n",
       "    <tr>\n",
       "      <th>0</th>\n",
       "      <td>0</td>\n",
       "      <td>601607</td>\n",
       "      <td>上海医药</td>\n",
       "      <td>https://guba.eastmoney.com/news,601607,9261090...</td>\n",
       "      <td>926109040</td>\n",
       "      <td>上药垃圾，都不要买</td>\n",
       "      <td>上药垃圾，都不要买</td>\n",
       "      <td>上药垃圾，都不要买</td>\n",
       "      <td>上药垃圾都不要买</td>\n",
       "      <td>[{'label': 'negative (stars 1, 2 and 3)', 'sco...</td>\n",
       "    </tr>\n",
       "  </tbody>\n",
       "</table>\n",
       "</div>"
      ],
      "text/plain": [
       "   Unnamed: 0  ticker ticker_name  \\\n",
       "0           0  601607        上海医药   \n",
       "\n",
       "                                                 url    post_id post_title  \\\n",
       "0  https://guba.eastmoney.com/news,601607,9261090...  926109040  上药垃圾，都不要买   \n",
       "\n",
       "  post_abstract post_content clean_cmt  \\\n",
       "0     上药垃圾，都不要买    上药垃圾，都不要买  上药垃圾都不要买   \n",
       "\n",
       "                                             ratings  \n",
       "0  [{'label': 'negative (stars 1, 2 and 3)', 'sco...  "
      ]
     },
     "execution_count": 25,
     "metadata": {},
     "output_type": "execute_result"
    }
   ],
   "source": [
    "df.head(1)"
   ]
  },
  {
   "cell_type": "code",
   "execution_count": 30,
   "id": "4da1ea41",
   "metadata": {},
   "outputs": [],
   "source": [
    "clean_dg = []\n",
    "for i in range(len(df.head(110))):\n",
    "    if 'negative' in df['ratings'][i]:\n",
    "        a = 0\n",
    "    else:\n",
    "        a = 1\n",
    "    clean_dg.append(a)\n"
   ]
  },
  {
   "cell_type": "markdown",
   "id": "5db0757c",
   "metadata": {},
   "source": [
    "import re\n",
    "clean_dg = []\n",
    "for i in range(len(df.head(110))):\n",
    "    s = list(int(s) for s in re.findall(r'-?\\d+\\.?\\d*', df['ratings'][i][12:19]))\n",
    "    s = convert(s)\n",
    "    clean_dg.append(s)\n",
    "    "
   ]
  },
  {
   "cell_type": "code",
   "execution_count": 32,
   "id": "f24edb26",
   "metadata": {},
   "outputs": [
    {
     "data": {
      "text/html": [
       "<div>\n",
       "<style scoped>\n",
       "    .dataframe tbody tr th:only-of-type {\n",
       "        vertical-align: middle;\n",
       "    }\n",
       "\n",
       "    .dataframe tbody tr th {\n",
       "        vertical-align: top;\n",
       "    }\n",
       "\n",
       "    .dataframe thead th {\n",
       "        text-align: right;\n",
       "    }\n",
       "</style>\n",
       "<table border=\"1\" class=\"dataframe\">\n",
       "  <thead>\n",
       "    <tr style=\"text-align: right;\">\n",
       "      <th></th>\n",
       "      <th>ticker</th>\n",
       "      <th>ticker_name</th>\n",
       "      <th>url</th>\n",
       "      <th>post_id</th>\n",
       "      <th>post_title</th>\n",
       "      <th>post_abstract</th>\n",
       "      <th>post_content</th>\n",
       "      <th>score</th>\n",
       "      <th>jd</th>\n",
       "      <th>human</th>\n",
       "    </tr>\n",
       "  </thead>\n",
       "  <tbody>\n",
       "    <tr>\n",
       "      <th>0</th>\n",
       "      <td>601607</td>\n",
       "      <td>上海医药</td>\n",
       "      <td>https://guba.eastmoney.com/news,601607,9261090...</td>\n",
       "      <td>926109040</td>\n",
       "      <td>上药垃圾，都不要买</td>\n",
       "      <td>上药垃圾，都不要买</td>\n",
       "      <td>上药垃圾，都不要买</td>\n",
       "      <td>1.0</td>\n",
       "      <td>0</td>\n",
       "      <td>0</td>\n",
       "    </tr>\n",
       "  </tbody>\n",
       "</table>\n",
       "</div>"
      ],
      "text/plain": [
       "   ticker ticker_name                                                url  \\\n",
       "0  601607        上海医药  https://guba.eastmoney.com/news,601607,9261090...   \n",
       "\n",
       "     post_id post_title post_abstract post_content  score  jd  human  \n",
       "0  926109040  上药垃圾，都不要买     上药垃圾，都不要买    上药垃圾，都不要买    1.0   0      0  "
      ]
     },
     "execution_count": 32,
     "metadata": {},
     "output_type": "execute_result"
    }
   ],
   "source": [
    "dfresult.head(1)"
   ]
  },
  {
   "cell_type": "code",
   "execution_count": 33,
   "id": "63d494d1",
   "metadata": {},
   "outputs": [],
   "source": [
    "dfresult = dfresult.head(110)\n",
    "dfresult['dianp'] = clean_dg"
   ]
  },
  {
   "cell_type": "code",
   "execution_count": 12,
   "id": "fa60d620",
   "metadata": {},
   "outputs": [
    {
     "name": "stderr",
     "output_type": "stream",
     "text": [
      "/home/ec2-user/anaconda3/envs/python3/lib/python3.6/site-packages/ipykernel/__main__.py:8: SettingWithCopyWarning: \n",
      "A value is trying to be set on a copy of a slice from a DataFrame.\n",
      "Try using .loc[row_indexer,col_indexer] = value instead\n",
      "\n",
      "See the caveats in the documentation: https://pandas.pydata.org/pandas-docs/stable/user_guide/indexing.html#returning-a-view-versus-a-copy\n"
     ]
    }
   ],
   "source": [
    "human = []\n",
    "for i in range(len(dfresult)):\n",
    "    if dfresult['score'][i] >= 3:\n",
    "        a = 1\n",
    "    else:\n",
    "        a = 0\n",
    "    human.append(a)\n",
    "dfresult['human'] = human"
   ]
  },
  {
   "cell_type": "code",
   "execution_count": 13,
   "id": "58c7c3a5",
   "metadata": {},
   "outputs": [
    {
     "name": "stderr",
     "output_type": "stream",
     "text": [
      "/home/ec2-user/anaconda3/envs/python3/lib/python3.6/site-packages/ipykernel/__main__.py:8: SettingWithCopyWarning: \n",
      "A value is trying to be set on a copy of a slice from a DataFrame.\n",
      "Try using .loc[row_indexer,col_indexer] = value instead\n",
      "\n",
      "See the caveats in the documentation: https://pandas.pydata.org/pandas-docs/stable/user_guide/indexing.html#returning-a-view-versus-a-copy\n"
     ]
    }
   ],
   "source": [
    "jd = []\n",
    "for i in range(len(dfresult)):\n",
    "    if dfresult['jd'][i] >= 3:\n",
    "        a = 1\n",
    "    else:\n",
    "        a = 0\n",
    "    jd.append(a)\n",
    "dfresult['jd'] = jd"
   ]
  },
  {
   "cell_type": "code",
   "execution_count": 17,
   "id": "09199a87",
   "metadata": {},
   "outputs": [],
   "source": [
    "dfresult.to_excel('gb_jd_result.xlsx')"
   ]
  },
  {
   "cell_type": "code",
   "execution_count": 34,
   "id": "cafe6723",
   "metadata": {},
   "outputs": [],
   "source": [
    "from sklearn.metrics import accuracy_score,precision_score,recall_score,f1_score\n",
    "test = list(dfresult['human'])\n",
    "predict = list(dfresult['dianp'])\n",
    "accuracy = accuracy_score(test, predict)\n",
    "precision = precision_score(test, predict)\n",
    "recall = recall_score(test, predict)\n",
    "f1 = f1_score(test, predict)"
   ]
  },
  {
   "cell_type": "code",
   "execution_count": 35,
   "id": "4a01676b",
   "metadata": {},
   "outputs": [
    {
     "name": "stdout",
     "output_type": "stream",
     "text": [
      "0.5727272727272728\n",
      "1.0\n",
      "0.3088235294117647\n",
      "0.4719101123595506\n"
     ]
    }
   ],
   "source": [
    "print(accuracy)\n",
    "print(precision)\n",
    "print(recall)\n",
    "print(f1)"
   ]
  },
  {
   "cell_type": "code",
   "execution_count": null,
   "id": "fb5104d2",
   "metadata": {},
   "outputs": [],
   "source": []
  }
 ],
 "metadata": {
  "kernelspec": {
   "display_name": "conda_python3",
   "language": "python",
   "name": "conda_python3"
  },
  "language_info": {
   "codemirror_mode": {
    "name": "ipython",
    "version": 3
   },
   "file_extension": ".py",
   "mimetype": "text/x-python",
   "name": "python",
   "nbconvert_exporter": "python",
   "pygments_lexer": "ipython3",
   "version": "3.6.13"
  }
 },
 "nbformat": 4,
 "nbformat_minor": 5
}
